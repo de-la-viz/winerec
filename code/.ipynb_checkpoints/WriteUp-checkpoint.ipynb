{
 "cells": [
  {
   "cell_type": "markdown",
   "metadata": {},
   "source": [
    "# #winerec - A Wine Recommendation System\n",
    "\n",
    "This notebook presents the code necessary to build the wine recommendation system. Its purpose is to show the process, explain and document the decisions taken and demonstrate the sytem.\n",
    "\n",
    "## Organization of the Notebook\n",
    "\n",
    "The organization of the notebook follows the different steps undertaken to create the recommendation system:\n",
    "\n",
    "1. Data Exploration: source of the data, the different variables and exploratory plots\n",
    "2. Data Processing:\n",
    "    1. Data selection, filtering and handling of missing values\n",
    "    2. Tokenization and cleaning of the text descriptions\n",
    "3. Data Understanding\n",
    "4. Testing Different Recommendation Systems\n",
    "5. Conclusion"
   ]
  },
  {
   "cell_type": "code",
   "execution_count": 1,
   "metadata": {},
   "outputs": [],
   "source": [
    "# IMPORTING THE NECESSARY PACKAGES AND FUNCTIONS:\n",
    "\n",
    "# generic:\n",
    "import numpy as np\n",
    "import pandas as pd\n",
    "import matplotlib.pyplot as plt\n",
    "import seaborn as sns\n",
    "%matplotlib inline\n",
    "import time \n",
    "\n",
    "# more specific:\n",
    "from sklearn.pipeline import make_pipeline\n",
    "from sklearn.preprocessing import Normalizer # Normalize samples individually to unit norm.\n",
    "import sklearn \n",
    "import pickle # to save models, for instance LDA outputs\n",
    "\n",
    "# NLP:\n",
    "import spacy # version 2.2.1 \n",
    "from sklearn.metrics.pairwise import cosine_similarity\n",
    "from gensim.models import word2vec\n",
    "from sklearn.feature_extraction.text import CountVectorizer, TfidfVectorizer\n",
    "from sklearn.decomposition import TruncatedSVD # LSA\n",
    "from sklearn.decomposition import NMF # NMF\n",
    "from sklearn.decomposition import LatentDirichletAllocation # LDA\n",
    "import pyLDAvis # used to visualize and plot ouptut of LDA\n",
    "import pyLDAvis.sklearn\n",
    "pyLDAvis.enable_notebook()"
   ]
  },
  {
   "cell_type": "markdown",
   "metadata": {},
   "source": [
    "## 1. Data Exploration\n",
    "\n",
    "The [dataset](https://www.kaggle.com/zynicide/wine-reviews) was uploaded on Kaggle by Zack Thout. It consists of 140’000 wine reviews scraped from the [WineEnthusiast](https://www.winemag.com/?s=&drink_type=wine) magazine website. I use a new version of the dataset, extracted on March 2019 (c.f. [discussion](https://www.kaggle.com/zynicide/wine-reviews/discussion/83970)) and found [here](https://www.kaggle.com/zynicide/wine-reviews/discussion/83970).  \n",
    "\n",
    "We first explore the data. The observations will guide the next data processing steps."
   ]
  },
  {
   "cell_type": "code",
   "execution_count": 2,
   "metadata": {},
   "outputs": [
    {
     "name": "stdout",
     "output_type": "stream",
     "text": [
      "(141617, 14)\n"
     ]
    },
    {
     "data": {
      "text/html": [
       "<div>\n",
       "<style scoped>\n",
       "    .dataframe tbody tr th:only-of-type {\n",
       "        vertical-align: middle;\n",
       "    }\n",
       "\n",
       "    .dataframe tbody tr th {\n",
       "        vertical-align: top;\n",
       "    }\n",
       "\n",
       "    .dataframe thead th {\n",
       "        text-align: right;\n",
       "    }\n",
       "</style>\n",
       "<table border=\"1\" class=\"dataframe\">\n",
       "  <thead>\n",
       "    <tr style=\"text-align: right;\">\n",
       "      <th></th>\n",
       "      <th>country</th>\n",
       "      <th>description</th>\n",
       "      <th>designation</th>\n",
       "      <th>points</th>\n",
       "      <th>price</th>\n",
       "      <th>province</th>\n",
       "      <th>region_1</th>\n",
       "      <th>region_2</th>\n",
       "      <th>taster_name</th>\n",
       "      <th>taster_twitter_handle</th>\n",
       "      <th>title</th>\n",
       "      <th>variety</th>\n",
       "      <th>winery</th>\n",
       "      <th>vintage</th>\n",
       "    </tr>\n",
       "  </thead>\n",
       "  <tbody>\n",
       "    <tr>\n",
       "      <td>0</td>\n",
       "      <td>Italy</td>\n",
       "      <td>Aromas include tropical fruit, broom, brimston...</td>\n",
       "      <td>Vulkà Bianco</td>\n",
       "      <td>87</td>\n",
       "      <td>NaN</td>\n",
       "      <td>Sicily &amp; Sardinia</td>\n",
       "      <td>Etna</td>\n",
       "      <td>NaN</td>\n",
       "      <td>Kerin O’Keefe</td>\n",
       "      <td>@kerinokeefe</td>\n",
       "      <td>Nicosia 2013 Vulkà Bianco  (Etna)</td>\n",
       "      <td>White Blend</td>\n",
       "      <td>Nicosia</td>\n",
       "      <td>2013.0</td>\n",
       "    </tr>\n",
       "    <tr>\n",
       "      <td>1</td>\n",
       "      <td>Portugal</td>\n",
       "      <td>This is ripe and fruity, a wine that is smooth...</td>\n",
       "      <td>Avidagos</td>\n",
       "      <td>87</td>\n",
       "      <td>15.0</td>\n",
       "      <td>Douro</td>\n",
       "      <td>NaN</td>\n",
       "      <td>NaN</td>\n",
       "      <td>Roger Voss</td>\n",
       "      <td>@vossroger</td>\n",
       "      <td>Quinta dos Avidagos 2011 Avidagos Red (Douro)</td>\n",
       "      <td>Portuguese Red</td>\n",
       "      <td>Quinta dos Avidagos</td>\n",
       "      <td>2011.0</td>\n",
       "    </tr>\n",
       "    <tr>\n",
       "      <td>2</td>\n",
       "      <td>US</td>\n",
       "      <td>Tart and snappy, the flavors of lime flesh and...</td>\n",
       "      <td>NaN</td>\n",
       "      <td>87</td>\n",
       "      <td>14.0</td>\n",
       "      <td>Oregon</td>\n",
       "      <td>Willamette Valley</td>\n",
       "      <td>Willamette Valley</td>\n",
       "      <td>Paul Gregutt</td>\n",
       "      <td>@paulgwine</td>\n",
       "      <td>Rainstorm 2013 Pinot Gris (Willamette Valley)</td>\n",
       "      <td>Pinot Gris</td>\n",
       "      <td>Rainstorm</td>\n",
       "      <td>2013.0</td>\n",
       "    </tr>\n",
       "    <tr>\n",
       "      <td>3</td>\n",
       "      <td>US</td>\n",
       "      <td>Pineapple rind, lemon pith and orange blossom ...</td>\n",
       "      <td>Reserve Late Harvest</td>\n",
       "      <td>87</td>\n",
       "      <td>13.0</td>\n",
       "      <td>Michigan</td>\n",
       "      <td>Lake Michigan Shore</td>\n",
       "      <td>NaN</td>\n",
       "      <td>Alexander Peartree</td>\n",
       "      <td>NaN</td>\n",
       "      <td>St. Julian 2013 Reserve Late Harvest Riesling ...</td>\n",
       "      <td>Riesling</td>\n",
       "      <td>St. Julian</td>\n",
       "      <td>2013.0</td>\n",
       "    </tr>\n",
       "    <tr>\n",
       "      <td>4</td>\n",
       "      <td>US</td>\n",
       "      <td>Much like the regular bottling from 2012, this...</td>\n",
       "      <td>Vintner's Reserve Wild Child Block</td>\n",
       "      <td>87</td>\n",
       "      <td>65.0</td>\n",
       "      <td>Oregon</td>\n",
       "      <td>Willamette Valley</td>\n",
       "      <td>Willamette Valley</td>\n",
       "      <td>Paul Gregutt</td>\n",
       "      <td>@paulgwine</td>\n",
       "      <td>Sweet Cheeks 2012 Vintner's Reserve Wild Child...</td>\n",
       "      <td>Pinot Noir</td>\n",
       "      <td>Sweet Cheeks</td>\n",
       "      <td>2012.0</td>\n",
       "    </tr>\n",
       "  </tbody>\n",
       "</table>\n",
       "</div>"
      ],
      "text/plain": [
       "    country                                        description  \\\n",
       "0     Italy  Aromas include tropical fruit, broom, brimston...   \n",
       "1  Portugal  This is ripe and fruity, a wine that is smooth...   \n",
       "2        US  Tart and snappy, the flavors of lime flesh and...   \n",
       "3        US  Pineapple rind, lemon pith and orange blossom ...   \n",
       "4        US  Much like the regular bottling from 2012, this...   \n",
       "\n",
       "                          designation  points  price           province  \\\n",
       "0                        Vulkà Bianco      87    NaN  Sicily & Sardinia   \n",
       "1                            Avidagos      87   15.0              Douro   \n",
       "2                                 NaN      87   14.0             Oregon   \n",
       "3                Reserve Late Harvest      87   13.0           Michigan   \n",
       "4  Vintner's Reserve Wild Child Block      87   65.0             Oregon   \n",
       "\n",
       "              region_1           region_2         taster_name  \\\n",
       "0                 Etna                NaN       Kerin O’Keefe   \n",
       "1                  NaN                NaN          Roger Voss   \n",
       "2    Willamette Valley  Willamette Valley        Paul Gregutt   \n",
       "3  Lake Michigan Shore                NaN  Alexander Peartree   \n",
       "4    Willamette Valley  Willamette Valley        Paul Gregutt   \n",
       "\n",
       "  taster_twitter_handle                                              title  \\\n",
       "0          @kerinokeefe                  Nicosia 2013 Vulkà Bianco  (Etna)   \n",
       "1            @vossroger      Quinta dos Avidagos 2011 Avidagos Red (Douro)   \n",
       "2           @paulgwine       Rainstorm 2013 Pinot Gris (Willamette Valley)   \n",
       "3                   NaN  St. Julian 2013 Reserve Late Harvest Riesling ...   \n",
       "4           @paulgwine   Sweet Cheeks 2012 Vintner's Reserve Wild Child...   \n",
       "\n",
       "          variety               winery  vintage  \n",
       "0     White Blend              Nicosia   2013.0  \n",
       "1  Portuguese Red  Quinta dos Avidagos   2011.0  \n",
       "2      Pinot Gris            Rainstorm   2013.0  \n",
       "3        Riesling           St. Julian   2013.0  \n",
       "4      Pinot Noir         Sweet Cheeks   2012.0  "
      ]
     },
     "execution_count": 2,
     "metadata": {},
     "output_type": "execute_result"
    }
   ],
   "source": [
    "# load data: \n",
    "raw_winedata = pd.read_csv(\"../data/winemag-data-190314.csv\").drop(\"Unnamed: 0\", axis=1) # indexes were stored as col\n",
    "initial_number_of_rows = raw_winedata.shape[0]\n",
    "print(raw_winedata.shape)\n",
    "raw_winedata.head()"
   ]
  },
  {
   "cell_type": "code",
   "execution_count": 3,
   "metadata": {},
   "outputs": [
    {
     "data": {
      "text/plain": [
       "country                   object\n",
       "description               object\n",
       "designation               object\n",
       "points                     int64\n",
       "price                    float64\n",
       "province                  object\n",
       "region_1                  object\n",
       "region_2                  object\n",
       "taster_name               object\n",
       "taster_twitter_handle     object\n",
       "title                     object\n",
       "variety                   object\n",
       "winery                    object\n",
       "vintage                  float64\n",
       "dtype: object"
      ]
     },
     "execution_count": 3,
     "metadata": {},
     "output_type": "execute_result"
    }
   ],
   "source": [
    "# variables types:\n",
    "raw_winedata.dtypes"
   ]
  },
  {
   "cell_type": "code",
   "execution_count": 4,
   "metadata": {},
   "outputs": [
    {
     "data": {
      "text/plain": [
       "country                     61\n",
       "description                  0\n",
       "designation              40182\n",
       "points                       0\n",
       "price                     9658\n",
       "province                    61\n",
       "region_1                 22886\n",
       "region_2                 86832\n",
       "taster_name              24917\n",
       "taster_twitter_handle    30649\n",
       "title                        0\n",
       "variety                      1\n",
       "winery                       0\n",
       "vintage                   5234\n",
       "dtype: int64"
      ]
     },
     "execution_count": 4,
     "metadata": {},
     "output_type": "execute_result"
    }
   ],
   "source": [
    "# checking for missing values:\n",
    "raw_winedata.isnull().sum()"
   ]
  },
  {
   "cell_type": "markdown",
   "metadata": {},
   "source": [
    "### Variables in the Dataset\n",
    "\n",
    "|variable|short explanation|\n",
    "|--------|-----------------|\n",
    "|country|The country that the wine is from|\n",
    "|description|Wine description by a _sommelier_, identified in the column \"taster\"|\n",
    "|designation|The vineyard within the winery where the grapes that made the wine are from|\n",
    "|points|The number of points WineEnthusiast rated the wine on a scale of 80-100 (wines deemed unacceptable (rating < 80) are not reviewed)|\n",
    "|price|The cost for a bottle of the wine in USD |\n",
    "|province|The province or state that the wine is from|\n",
    "|region_1|The wine growing area in a province or state (e.g. Napa)|\n",
    "|region_2|Sometimes there are more specific regions specified within a wine growing area (e.g. Rutherford inside the Napa Valley)|\n",
    "|taster_name|Name of the _sommelier_ who wrote the description|\n",
    "|taster_twitter_handle| |\n",
    "|title|The title of the wine review|\n",
    "|variety|The type of grapes used to make the wine (e.g. Pinot Noir)|\n",
    "|winery|The winery that made the wine|\n",
    "|vintage|Extracted from \"title\" when present|\n",
    "\n",
    "We first have a look at the most important variables.\n",
    "\n",
    "#### Description\n",
    "\n",
    "The variable that interest us the most is the variable _description_, as we will base our content-based recommendation system on it. There are no missing values, however some descriptions are duplicated:"
   ]
  },
  {
   "cell_type": "code",
   "execution_count": 5,
   "metadata": {},
   "outputs": [
    {
     "name": "stdout",
     "output_type": "stream",
     "text": [
      "number of duplicated descriptions:  38.0\n"
     ]
    }
   ],
   "source": [
    "# inspect duplicated description:\n",
    "duplicates_description  = raw_winedata[raw_winedata.duplicated(subset='description', keep=False)].sort_values(by='description')\n",
    "print('number of duplicated descriptions: ', duplicates_description.shape[0]/2)\n",
    "# duplicates_description # if want to print duplicates\n",
    "\n",
    "# note: there are no full duplicates of row:\n",
    "# duplicates = raw_winedata[raw_winedata.duplicated()] # is empty"
   ]
  },
  {
   "cell_type": "markdown",
   "metadata": {},
   "source": [
    "No rows are full duplicates. However, 38 descriptions occur twice. Usually the descriptions occuring twice are two different wines coming from the same region. Sometimes even from the same winery, but with a different designation (e.g. \"reserve\"). We cannot know if these duplicate descriptions are valid tasting description or copy-paste errors from the tasters. Thus, we could keep them and assume that the taster did voluntarily copy their description because the wine was indeed very similar. However we have to keep in mind that if two descriptions are exact copies, the similarity distance that we will compute, or tf-idf scores or topics, or actually any measure will be the same.  \n",
    "\n",
    "To stay on the safe side, we will remove these duplicates when processing data."
   ]
  },
  {
   "cell_type": "code",
   "execution_count": 6,
   "metadata": {},
   "outputs": [
    {
     "name": "stdout",
     "output_type": "stream",
     "text": [
      "This is ripe and fruity, a wine that is smooth while still structured. Firm tannins are filled out with juicy red berry fruits and freshened with acidity. It's  already drinkable, although it will certainly be better from 2016. \n",
      "\n",
      "Tart and snappy, the flavors of lime flesh and rind dominate. Some green pineapple pokes through, with crisp acidity underscoring the flavors. The wine was all stainless-steel fermented. \n",
      "\n",
      "Pineapple rind, lemon pith and orange blossom start off the aromas. The palate is a bit more opulent, with notes of honey-drizzled guava and mango giving way to a slightly astringent, semidry finish. \n",
      "\n",
      "Much like the regular bottling from 2012, this comes across as rather rough and tannic, with rustic, earthy, herbal characteristics. Nonetheless, if you think of it as a pleasantly unfussy country wine, it's a good companion to a hearty winter stew. \n",
      "\n"
     ]
    }
   ],
   "source": [
    "# Some examples of descriptions:\n",
    "for i in range(1,5):\n",
    "    print(raw_winedata.description[i], '\\n')"
   ]
  },
  {
   "cell_type": "markdown",
   "metadata": {},
   "source": [
    "Already with this very small subset, we note that not all words or sentences used are directly related to taste. For instance: \"although it will certainly be better from 2016\" or \"Much like the regular bottling from 2012\". "
   ]
  },
  {
   "cell_type": "code",
   "execution_count": 7,
   "metadata": {},
   "outputs": [
    {
     "name": "stdout",
     "output_type": "stream",
     "text": [
      "Number of characters in the longest descritption:  829 ; and in the shortest:  20 . The mean is  242.97805348227968  and the median 237.0\n"
     ]
    },
    {
     "data": {
      "image/png": "[encoded data removed]",
      "text/plain": [
       "<Figure size 432x288 with 1 Axes>"
      ]
     },
     "metadata": {
      "needs_background": "light"
     },
     "output_type": "display_data"
    }
   ],
   "source": [
    "# length of the descriptions:\n",
    "descr_lengths = raw_winedata.description.apply(len)\n",
    "print(\"Number of characters in the longest descritption: \", max(descr_lengths), \n",
    "      '; and in the shortest: ', min(descr_lengths), '. The mean is ',\n",
    "     np.mean(descr_lengths), ' and the median', np.median(descr_lengths))\n",
    "# distribution: \n",
    "raw_winedata.description.apply(len).hist(bins=30)\n",
    "plt.xlabel('Number of characters')\n",
    "plt.ylabel('Count')\n",
    "plt.title('Distribution of the number of characters by description')\n",
    "plt.show()"
   ]
  },
  {
   "cell_type": "markdown",
   "metadata": {},
   "source": [
    "We will remove descriptions with less than 100 characters because we consider that they do not carry enough information to be useful for NLP."
   ]
  },
  {
   "cell_type": "code",
   "execution_count": 8,
   "metadata": {
    "scrolled": false
   },
   "outputs": [],
   "source": [
    "# # Use this code to print the short descriptions\n",
    "# short_descr = raw_winedata[raw_winedata.description.apply(len) < 45].description\n",
    "# for descr in short_descr:\n",
    "#     print(descr)"
   ]
  },
  {
   "cell_type": "markdown",
   "metadata": {},
   "source": [
    "After visual inspection, we found that short descriptions usually still carry relevant information, thus we will only get rid of the descriptions that are under 45 characters long.  \n",
    "\n",
    "We can quickly have a look at the most frequent words used:"
   ]
  },
  {
   "cell_type": "code",
   "execution_count": 9,
   "metadata": {},
   "outputs": [
    {
     "name": "stdout",
     "output_type": "stream",
     "text": [
      "[('wine', 88822), ('flavors', 68104), ('fruit', 54225), ('palate', 45084), ('aromas', 45055), ('acidity', 39090), ('finish', 38132), ('tannins', 35255), ('drink', 34930), ('black', 32737), ('cherry', 32237), ('ripe', 30574), ('red', 24253), ('spice', 21223), ('notes', 20654), ('nose', 20166), ('oak', 19383), ('rich', 19284), ('fresh', 18996), ('berry', 18963), ('dry', 18143), ('plum', 16635), ('apple', 15162), ('fruits', 14888), ('white', 14585), ('soft', 14472), ('offers', 14298), ('light', 14253), ('blend', 14128), ('texture', 14034), ('blackberry', 13768), ('sweet', 13713), ('crisp', 13666), ('dark', 13604), ('bodied', 13356), ('citrus', 12873), ('bright', 12222), ('shows', 12119), ('vanilla', 11766), ('juicy', 11249), ('cabernet', 11245), ('lemon', 11240), ('pepper', 11233), ('green', 10533), ('fruity', 10422), ('raspberry', 10369), ('firm', 10253), ('good', 10065), ('balanced', 9594), ('peach', 9398), ('touch', 9321), ('dried', 9263), ('chocolate', 8987), ('pear', 8871), ('character', 8832), ('like', 8516), ('structure', 8366), ('sauvignon', 8144), ('years', 7837), ('fine', 7835), ('spicy', 7815), ('medium', 7774), ('wood', 7721), ('smooth', 7704), ('herb', 7570), ('currant', 7377), ('concentrated', 7329), ('hint', 7000), ('mineral', 6972), ('pinot', 6952), ('just', 6932), ('style', 6846), ('tart', 6844), ('note', 6815), ('vineyard', 6757), ('long', 6725), ('herbal', 6712), ('tannic', 6630), ('alongside', 6574), ('licorice', 6521), ('orange', 6519), ('mouth', 6499), ('flavor', 6435), ('lime', 6374), ('merlot', 6317), ('bit', 6255), ('balance', 6254), ('age', 6220), ('savory', 6189), ('structured', 6104), ('creamy', 6094), ('lead', 6043), ('dense', 6017), ('aging', 5977), ('clean', 5955), ('opens', 5953), ('earthy', 5883), ('toast', 5842), ('ready', 5825), ('leather', 5818)]\n"
     ]
    }
   ],
   "source": [
    "# Tokenization\n",
    "# Note: we do not care here much about the details of the parameters,\n",
    "# we just want to have a look at the most common words: \n",
    "vectorizer = CountVectorizer(analyzer='word',       \n",
    "                             stop_words='english',             # remove stop words\n",
    "                             lowercase=True,                   # convert all words to lowercase\n",
    "                             max_features=1000,             # max number of unique words\n",
    "                            )\n",
    "\n",
    "def get_top_n_words(corpus, n=None):\n",
    "    \"\"\"\n",
    "    List the top n words in a vocabulary according to occurrence in a text corpus.\n",
    "    \"\"\"\n",
    "    vec = vectorizer.fit(corpus)\n",
    "    bag_of_words = vec.transform(corpus)\n",
    "    sum_words = bag_of_words.sum(axis=0) \n",
    "    words_freq = [(word, sum_words[0, idx]) for word, idx in vec.vocabulary_.items()]\n",
    "    words_freq = sorted(words_freq, key = lambda x: x[1], reverse=True)\n",
    "    return words_freq[:n]\n",
    "\n",
    "print(get_top_n_words(raw_winedata['description'], 100))"
   ]
  },
  {
   "cell_type": "markdown",
   "metadata": {},
   "source": [
    "This looks quite promising, as most of those words are taste descriptors. "
   ]
  },
  {
   "cell_type": "markdown",
   "metadata": {},
   "source": [
    "#### Country"
   ]
  },
  {
   "cell_type": "code",
   "execution_count": 10,
   "metadata": {},
   "outputs": [],
   "source": [
    "def my_barplot(dataframe, variable, title=None, xlabel=None, ylabel=None, fig_height=6):\n",
    "    \"\"\"\n",
    "        bar plot of the value counts a variable in a df.\n",
    "        includes NAs\n",
    "    \"\"\"\n",
    "    plt.figure(figsize=(6,fig_height))\n",
    "    \n",
    "    df_toplot = pd.DataFrame(dataframe[variable].value_counts(dropna=False).reset_index(level=0))\n",
    "    df_toplot.columns = ['variable', 'count']\n",
    "    # necessary for the NaN to appear on the plots:\n",
    "    df_toplot['variable'] = np.where(df_toplot['variable'].isnull(), 'MISSING', df_toplot['variable'])\n",
    "    \n",
    "    sns.barplot(x='count', y='variable', data=df_toplot, color=\"steelblue\")\n",
    "    plt.title(title)\n",
    "    plt.ylabel(variable)\n",
    "    if xlabel is not None:\n",
    "        plt.xlabel(xlabel)\n",
    "    if ylabel is not None:\n",
    "        plt.ylabel(ylabel)\n",
    "    plt.show()"
   ]
  },
  {
   "cell_type": "code",
   "execution_count": 11,
   "metadata": {},
   "outputs": [
    {
     "data": {
      "image/png": "[encoded data removed]",
      "text/plain": [
       "<Figure size 432x720 with 1 Axes>"
      ]
     },
     "metadata": {
      "needs_background": "light"
     },
     "output_type": "display_data"
    }
   ],
   "source": [
    "my_barplot(raw_winedata, 'country', title='Wine of the USA are over-represented in the dataset', fig_height=10)"
   ]
  },
  {
   "cell_type": "markdown",
   "metadata": {},
   "source": [
    "#### Variety"
   ]
  },
  {
   "cell_type": "code",
   "execution_count": 12,
   "metadata": {},
   "outputs": [
    {
     "name": "stdout",
     "output_type": "stream",
     "text": [
      "There are 758 different varieties in the dataset\n",
      "If we keep only the varieties represented by 500 wines or more, \n",
      "we still have 122856 wines in the dataset, and 42 unique varieties:\n"
     ]
    },
    {
     "data": {
      "image/png": "[encoded data removed]",
      "text/plain": [
       "<Figure size 432x720 with 1 Axes>"
      ]
     },
     "metadata": {
      "needs_background": "light"
     },
     "output_type": "display_data"
    }
   ],
   "source": [
    "threshold_n_wines = 500\n",
    "variety_counts = raw_winedata.variety.value_counts()\n",
    "\n",
    "print('There are', raw_winedata.variety.nunique(), 'different varieties in the dataset')\n",
    "print('If we keep only the varieties represented by', threshold_n_wines, 'wines or more, ')\n",
    "print('we still have', \n",
    "     raw_winedata[raw_winedata.variety.isin(variety_counts.index[variety_counts > threshold_n_wines])].shape[0],\n",
    "     'wines in the dataset, and', \n",
    "     raw_winedata[raw_winedata.variety.isin(variety_counts.index[variety_counts > threshold_n_wines])].variety.nunique(),\n",
    "     'unique varieties:')\n",
    "\n",
    "my_barplot(raw_winedata[raw_winedata.variety.isin(variety_counts.index[variety_counts > threshold_n_wines])], \n",
    "           'variety', \n",
    "           title='The varieties with more than '+str(threshold_n_wines)+' wines in the dataset', \n",
    "           fig_height=10)\n"
   ]
  },
  {
   "cell_type": "markdown",
   "metadata": {},
   "source": [
    "#### Province"
   ]
  },
  {
   "cell_type": "code",
   "execution_count": 13,
   "metadata": {},
   "outputs": [
    {
     "name": "stdout",
     "output_type": "stream",
     "text": [
      "There are 456 different provinces in the dataset\n",
      "If we keep only the provinces represented by 500 wines or more, \n",
      "we still have 124904 wines in the dataset, and 41 unique provinces:\n"
     ]
    },
    {
     "data": {
      "image/png": "[encoded data removed]",
      "text/plain": [
       "<Figure size 432x720 with 1 Axes>"
      ]
     },
     "metadata": {
      "needs_background": "light"
     },
     "output_type": "display_data"
    }
   ],
   "source": [
    "threshold_n_wines = 500\n",
    "province_counts = raw_winedata.province.value_counts()\n",
    "\n",
    "print('There are', raw_winedata.province.nunique(), 'different provinces in the dataset')\n",
    "print('If we keep only the provinces represented by', threshold_n_wines, 'wines or more, ')\n",
    "print('we still have', \n",
    "     raw_winedata[raw_winedata.province.isin(province_counts.index[province_counts > threshold_n_wines])].shape[0],\n",
    "     'wines in the dataset, and', \n",
    "     raw_winedata[raw_winedata.province.isin(province_counts.index[province_counts > threshold_n_wines])].province.nunique(),\n",
    "     'unique provinces:')\n",
    "\n",
    "my_barplot(raw_winedata[raw_winedata.province.isin(province_counts.index[province_counts > threshold_n_wines])], \n",
    "           'province', \n",
    "           title='The provinces with more than '+str(threshold_n_wines)+' wines in the dataset', \n",
    "           fig_height=10)\n"
   ]
  },
  {
   "cell_type": "markdown",
   "metadata": {},
   "source": [
    "We note that there is a province named \"Other\"."
   ]
  },
  {
   "cell_type": "markdown",
   "metadata": {},
   "source": [
    "#### Taster\n",
    "\n",
    "Unfortunately a large portion of the data lack a tester name. This has to be kept in mind if we want to check the assumption that their is an \"universal\" way of describing wine and that vocabulary of the different taster is similar.  "
   ]
  },
  {
   "cell_type": "code",
   "execution_count": 14,
   "metadata": {},
   "outputs": [
    {
     "data": {
      "image/png": "[encoded data removed]",
      "text/plain": [
       "<Figure size 432x432 with 1 Axes>"
      ]
     },
     "metadata": {
      "needs_background": "light"
     },
     "output_type": "display_data"
    }
   ],
   "source": [
    "my_barplot(raw_winedata, 'taster_name', title='A considerable number of taster names are missing', fig_height=6)"
   ]
  },
  {
   "cell_type": "markdown",
   "metadata": {},
   "source": [
    "The variables that we just explored are the most significant for this project. Let's have a quick look at the points attributed to the wine.\n",
    "\n",
    "#### Points\n",
    "\n",
    "Note that wines with a review less than 80 points are not reviewed, thus not in the dataset.  "
   ]
  },
  {
   "cell_type": "code",
   "execution_count": 15,
   "metadata": {},
   "outputs": [
    {
     "data": {
      "image/png": "[encoded data removed]",
      "text/plain": [
       "<Figure size 432x288 with 1 Axes>"
      ]
     },
     "metadata": {
      "needs_background": "light"
     },
     "output_type": "display_data"
    }
   ],
   "source": [
    "# distribution of points attributed to the wines:\n",
    "raw_winedata.points.hist(bins=20)\n",
    "plt.xlabel('Number of points')\n",
    "plt.ylabel('Count')\n",
    "plt.title('The points attributed to the wine are quite normally distributed')\n",
    "plt.show()"
   ]
  },
  {
   "cell_type": "markdown",
   "metadata": {},
   "source": [
    "**This dataset is a sample that is not representative of the wine production in the world**. It only represent what was could be scraped on the WineEnthusiast website, which is aimed at the american wine market. There is thus an important sampling bias in this dataset. More will be commented on this in the presentation.\n"
   ]
  },
  {
   "cell_type": "markdown",
   "metadata": {},
   "source": [
    "## 2. Data Processing\n",
    "\n",
    "In this step, we process, filter and clean the data. The data processing decisions are based on the initial data exploration, but also on later steps in the analysis pipeline.  \n",
    "\n",
    "### 2.A. Data selection, filtering and handling of missing values"
   ]
  },
  {
   "cell_type": "code",
   "execution_count": 16,
   "metadata": {},
   "outputs": [],
   "source": [
    "# creation of a dataframe that will contain the processed data:\n",
    "winedata_processing = raw_winedata.copy()\n",
    "initial_number_of_rows = winedata_processing.shape[0]\n",
    "\n",
    "# WARNING: the following code chunks need to be run starting from this one !"
   ]
  },
  {
   "cell_type": "code",
   "execution_count": 17,
   "metadata": {},
   "outputs": [
    {
     "name": "stdout",
     "output_type": "stream",
     "text": [
      "Number of rows removed:  18761 . New number of rows: 122856\n"
     ]
    }
   ],
   "source": [
    "# Keep only varieties that occur more than 500 times:\n",
    "old_number_of_rows = winedata_processing.shape[0]\n",
    "\n",
    "n = 500\n",
    "variety_counts = winedata_processing.variety.value_counts()\n",
    "winedata_processing = winedata_processing[winedata_processing.variety.isin(variety_counts.index[variety_counts.gt(n)])] # pandas.DataFrame.gt = get greater\n",
    "\n",
    "new_number_of_rows = winedata_processing.shape[0]\n",
    "print('Number of rows removed: ', old_number_of_rows-new_number_of_rows, \n",
    "      '. New number of rows:', winedata_processing.shape[0])\n"
   ]
  },
  {
   "cell_type": "code",
   "execution_count": 18,
   "metadata": {},
   "outputs": [
    {
     "name": "stdout",
     "output_type": "stream",
     "text": [
      "Number of rows removed:  15932 . New number of rows: 106924\n"
     ]
    }
   ],
   "source": [
    "# Keep only provinces that occur more than 500 times:\n",
    "old_number_of_rows = winedata_processing.shape[0]\n",
    "\n",
    "n = 500\n",
    "province_counts = winedata_processing.province.value_counts()\n",
    "winedata_processing = winedata_processing[winedata_processing.province.isin(province_counts.index[province_counts.gt(n)])]\n",
    "\n",
    "new_number_of_rows = winedata_processing.shape[0]\n",
    "print('Number of rows removed: ', old_number_of_rows-new_number_of_rows, \n",
    "      '. New number of rows:', winedata_processing.shape[0])"
   ]
  },
  {
   "cell_type": "code",
   "execution_count": 19,
   "metadata": {},
   "outputs": [
    {
     "name": "stdout",
     "output_type": "stream",
     "text": [
      "Number of rows removed:  44 . New number of rows: 106880\n"
     ]
    }
   ],
   "source": [
    "# Remove duplicate descriptions:\n",
    "old_number_of_rows = winedata_processing.shape[0]\n",
    "\n",
    "# Note: we are conservative, and do not keep any version of the duplicates\n",
    "winedata_processing = winedata_processing.drop_duplicates(subset='description', keep=False)\n",
    "\n",
    "new_number_of_rows = winedata_processing.shape[0]\n",
    "print('Number of rows removed: ', old_number_of_rows-new_number_of_rows, \n",
    "      '. New number of rows:', winedata_processing.shape[0])"
   ]
  },
  {
   "cell_type": "code",
   "execution_count": 20,
   "metadata": {},
   "outputs": [],
   "source": [
    "# We drop the columns \"taster_twitter_handle\" and \"vintage\",\n",
    "# as they are useless for this analysis\n",
    "winedata_processing.drop(['taster_twitter_handle', 'vintage'], axis=1, inplace=True)"
   ]
  },
  {
   "cell_type": "code",
   "execution_count": 21,
   "metadata": {},
   "outputs": [],
   "source": [
    "# finally, we save the processed data in a new dataframe, that we will use for the rest of the project:\n",
    "winedata = winedata_processing.copy()\n",
    "\n",
    "# and we reset the indexes of the data:\n",
    "winedata.reset_index(inplace=True)"
   ]
  },
  {
   "cell_type": "markdown",
   "metadata": {},
   "source": [
    "### 2.B. Tokenization and cleaning of the text descriptions\n",
    "\n",
    "We add a new column in the dataframe with the tokenized and clean descriptions, using a custom tokenizer.    \n",
    "\n",
    "The corpus-specific stopwords (domain_specific_stopwords, variety_stopwords, province_stopwords) listed below have been updated after an initial iteration of building the recommendation system and the observations collected.  Notably, we would prefer to not have wine varieties and province inside the text descriptions, as our goal is to recommand wines based on the taste description.  "
   ]
  },
  {
   "cell_type": "code",
   "execution_count": 22,
   "metadata": {},
   "outputs": [],
   "source": [
    "domain_specific_stopwords = ['$', ' ', '’s', 'wine', 'winemaker', 'winemaking', 'winery',\n",
    "                             'château', 'village', 'domaine',\n",
    "                             'côte', 'saint', 'village', 'parcel', 'parcels',\n",
    "                             'I', 'flavors',\n",
    "                             'now-2015', 'now-2018', 'now-2025']\n",
    "# Other potential words to consider removing:\n",
    "# douro, nacional, widely, muscat, willamette, bordeaux, pommard, rioja, barbaresco, chianti...\n",
    "\n",
    "# a list of all wine varieties. this is not perfect as some varieties are compound words. But it's a start.\n",
    "variety_stopwords = winedata.variety.unique().tolist()\n",
    "variety_stopwords = [str(variety).lower() for variety in variety_stopwords] # convert to lowercase\n",
    "# we add some notable varieties to the list:\n",
    "variety_stopwords = variety_stopwords + ['pinot', 'gris', 'noir', 'grigio', 'cabernet', \n",
    "                                         'cabernets', 'sauvignon', 'sirah', 'tempranillo', \n",
    "                                         'chenin', 'sangiovese', 'grüner', 'veltliner', 'corvina', \n",
    "                                         'rondinella', 'molinara']\n",
    "\n",
    "# a list of all wine provinces. \n",
    "province_stopwords = winedata.province.unique().tolist()\n",
    "province_stopwords = [str(province).lower() for province in province_stopwords] # convert to lowercase\n",
    "# we add some notable province-related words to the list:\n",
    "province_stopwords = province_stopwords + ['france', 'sicily', 'sardinia', 'mendoza', 'spain', \n",
    "                                           'australia', 'italy', 'loire', 'beaujolais']\n"
   ]
  },
  {
   "cell_type": "code",
   "execution_count": 23,
   "metadata": {},
   "outputs": [],
   "source": [
    "# Standard model used for tokenization.\n",
    "# When using another model, we will have to load it and redefine \"nlp\"\n",
    "\n",
    "# We do not need word vectors here, so we can upload the small English model from spaCy:\n",
    "# We do not need PoS tags, dependencies or named entities, so we disable them (run faster!):\n",
    "nlp = spacy.load('en_core_web_sm', disable=['tagger', 'parser', 'ner'])"
   ]
  },
  {
   "cell_type": "code",
   "execution_count": 24,
   "metadata": {},
   "outputs": [],
   "source": [
    "def tokenize_and_clean(description):\n",
    "    \"\"\"\n",
    "        Our basic tokenizer function. It takes as input:\n",
    "            - a pd.Series of the descriptions\n",
    "            - a nlp model\n",
    "        After tokenizing, it cleans the data too,\n",
    "        and returns a list of tokens. \n",
    "    \"\"\"\n",
    "    \n",
    "#     # eventually clean the description with regular expressions here:\n",
    "#     pattern = \"[\\[].*?[\\]]\" # an example of an regex\n",
    "#     description = re.sub(pattern, \"\", description) # remove this pattern from description.\n",
    "\n",
    "    # Tokenize:\n",
    "    mytokens = nlp(description)\n",
    "\n",
    "    # Removing stopwords, punctuation, numbers and convert to lower_case\n",
    "    mytokens = [token.lower_ for token in mytokens if not token.is_punct and not token.is_stop and not token.like_num and not token.is_digit]\n",
    "    \n",
    "    # remove domain-specific stopwords:\n",
    "    mytokens = [token for token in mytokens if token not in domain_specific_stopwords]\n",
    "            \n",
    "    # remove wine variety occurrences in the descriptions:\n",
    "    mytokens = [token for token in mytokens if token not in variety_stopwords]\n",
    "    \n",
    "    # remove wine province occurrences in the descriptions:\n",
    "    mytokens = [token for token in mytokens if token not in province_stopwords]\n",
    "                \n",
    "    # Return preprocessed list of tokens\n",
    "    return mytokens\n"
   ]
  },
  {
   "cell_type": "code",
   "execution_count": 25,
   "metadata": {},
   "outputs": [
    {
     "name": "stdout",
     "output_type": "stream",
     "text": [
      "Done! Tokenization took 25.49094295501709 seconds.\n"
     ]
    }
   ],
   "source": [
    "# Tokenization:\n",
    "time0 = time.time()\n",
    "\n",
    "# we store our tokenized descriptions in a new column of the dataframe, \n",
    "# in the form of a list of words,\n",
    "# which we will be able to use later in the analysis as input for different algorithms.\n",
    "\n",
    "winedata.loc[:,'tokenized_descriptions'] = winedata.description.apply(tokenize_and_clean)\n",
    "\n",
    "print('Done! Tokenization took', time.time()-time0, 'seconds.')"
   ]
  },
  {
   "cell_type": "code",
   "execution_count": 26,
   "metadata": {},
   "outputs": [],
   "source": [
    "def concatenate_list_of_words_in_one_string(list_of_words):\n",
    "    \"\"\"\n",
    "        build one string with a list of words, with a space in the middle\n",
    "    \"\"\"\n",
    "    return \" \".join(list_of_words)"
   ]
  },
  {
   "cell_type": "code",
   "execution_count": 27,
   "metadata": {},
   "outputs": [],
   "source": [
    "# we also store our tokenized descriptions as one string, \n",
    "# as it will be useful later, e.g. to compute tf-ifd.\n",
    "winedata.loc[:,'token_descr_as_string'] = winedata.tokenized_descriptions.apply(\n",
    "    concatenate_list_of_words_in_one_string)\n"
   ]
  },
  {
   "cell_type": "code",
   "execution_count": 28,
   "metadata": {},
   "outputs": [],
   "source": [
    "# a csv where we save our processed data:\n",
    "winedata.to_csv(path_or_buf='../data/winedata_processed_and_tokenized.csv', index=False)"
   ]
  },
  {
   "cell_type": "markdown",
   "metadata": {},
   "source": [
    "## 3. Understanding the Data\n",
    "\n",
    "We apply some supervised learning techniques to better understand the data and test some of our assumptions before building the recommender system.\n",
    "\n",
    "### 3.A Classification Based on the Descriptions\n",
    "\n",
    "For building this content-based system based on the tasting descriptions, we make the assumption that these descriptions written by _sommeliers_ add more information about the taste of a wine than the variety and origin of the wines. If this is the case, we should not be able to build a model with 100% accuracy when predicting the _variety_ or _province_ of the wines based on the descriptions. This is an assumption that we will test.  \n",
    "\n",
    "As that is not the main exercise of the project, we will only test one model and will not try to fine-tune it for days:  \n",
    "\n",
    "#### A random-forest to classify wine varieties based on unigram tf-idf vectors"
   ]
  },
  {
   "cell_type": "code",
   "execution_count": 29,
   "metadata": {},
   "outputs": [
    {
     "name": "stdout",
     "output_type": "stream",
     "text": [
      "Done! Vectorization took 2.1668779850006104 seconds.\n"
     ]
    }
   ],
   "source": [
    "# vectorization:\n",
    "time0 = time.time()\n",
    "\n",
    "tfidf_vectorizer = TfidfVectorizer(ngram_range=(1,1), # 1-gram\n",
    "                               max_df=0.95, # ignore t that have a df higher than max_df (corpus-specific stopwords)\n",
    "                               min_df=10, # ignore terms that have a doc freq lower than threshold.\n",
    "                               max_features=2000, # max number of features\n",
    "                               use_idf=True,#we definitely want to use inverse document frequencies in our weighting\n",
    "                               norm=u'l2', #Applies a correction factor so that longer paragraphs and shorter paragraphs get treated equally\n",
    "                               smooth_idf=True #Adds 1 to all document frequencies, as if an extra document existed that used every word once.  Prevents divide-by-zero errors\n",
    "                              )\n",
    "# Applying the vectorizer on the \"clean\" descriptions:\n",
    "wine_tfidf = tfidf_vectorizer.fit_transform(winedata.token_descr_as_string)\n",
    "\n",
    "# list of features\n",
    "terms = tfidf_vectorizer.get_feature_names()\n",
    "\n",
    "print('Done! Vectorization took', time.time()-time0, 'seconds.')\n"
   ]
  },
  {
   "cell_type": "code",
   "execution_count": 31,
   "metadata": {
    "scrolled": false
   },
   "outputs": [],
   "source": [
    "# TODO : build features as in 4.4.5 and train/test split and classify . \n",
    "# is there a more interpretable algorithm? is gradient boosting ok for multiclass?\n"
   ]
  },
  {
   "cell_type": "code",
   "execution_count": null,
   "metadata": {},
   "outputs": [],
   "source": []
  },
  {
   "cell_type": "markdown",
   "metadata": {},
   "source": [
    "### 3.B Clustering the Descriptions\n",
    "\n"
   ]
  },
  {
   "cell_type": "code",
   "execution_count": null,
   "metadata": {},
   "outputs": [],
   "source": []
  },
  {
   "cell_type": "code",
   "execution_count": null,
   "metadata": {},
   "outputs": [],
   "source": []
  },
  {
   "cell_type": "code",
   "execution_count": null,
   "metadata": {},
   "outputs": [],
   "source": []
  },
  {
   "cell_type": "code",
   "execution_count": null,
   "metadata": {},
   "outputs": [],
   "source": []
  }
 ],
 "metadata": {
  "kernelspec": {
   "display_name": "Python 3",
   "language": "python",
   "name": "python3"
  },
  "language_info": {
   "codemirror_mode": {
    "name": "ipython",
    "version": 3
   },
   "file_extension": ".py",
   "mimetype": "text/x-python",
   "name": "python",
   "nbconvert_exporter": "python",
   "pygments_lexer": "ipython3",
   "version": "3.7.4"
  }
 },
 "nbformat": 4,
 "nbformat_minor": 2
}
