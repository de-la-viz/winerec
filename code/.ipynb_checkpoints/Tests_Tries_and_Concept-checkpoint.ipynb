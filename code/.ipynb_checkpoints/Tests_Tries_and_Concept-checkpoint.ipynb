{
 "cells": [
  {
   "cell_type": "markdown",
   "metadata": {},
   "source": [
    "# Tests, Tries and Concept\n",
    "\n",
    "The aim of this notebook is to explore the solutions and build a proof of concept using a small subset of the full dataset to gain time. By doing so, we will get a better understanding of the [NLP pipeline](https://spacy.io/usage/processing-pipelines). We will call this subset of 100 descriptions: _subset_."
   ]
  },
  {
   "cell_type": "code",
   "execution_count": 325,
   "metadata": {},
   "outputs": [],
   "source": [
    "# general:\n",
    "import numpy as np\n",
    "import pandas as pd\n",
    "import matplotlib.pyplot as plt\n",
    "import seaborn as sns\n",
    "%matplotlib inline\n",
    "import time # will be use to choose the faster solution\n",
    "import itertools # used for instance to flatten list of lists\n",
    "from collections import Counter # e.g. to find most common words\n",
    "\n",
    "\n",
    "# NLP:\n",
    "import spacy"
   ]
  },
  {
   "cell_type": "code",
   "execution_count": 2,
   "metadata": {},
   "outputs": [
    {
     "name": "stdout",
     "output_type": "stream",
     "text": [
      "(141617, 14)\n"
     ]
    },
    {
     "data": {
      "text/html": [
       "<div>\n",
       "<style scoped>\n",
       "    .dataframe tbody tr th:only-of-type {\n",
       "        vertical-align: middle;\n",
       "    }\n",
       "\n",
       "    .dataframe tbody tr th {\n",
       "        vertical-align: top;\n",
       "    }\n",
       "\n",
       "    .dataframe thead th {\n",
       "        text-align: right;\n",
       "    }\n",
       "</style>\n",
       "<table border=\"1\" class=\"dataframe\">\n",
       "  <thead>\n",
       "    <tr style=\"text-align: right;\">\n",
       "      <th></th>\n",
       "      <th>country</th>\n",
       "      <th>description</th>\n",
       "      <th>designation</th>\n",
       "      <th>points</th>\n",
       "      <th>price</th>\n",
       "      <th>province</th>\n",
       "      <th>region_1</th>\n",
       "      <th>region_2</th>\n",
       "      <th>taster_name</th>\n",
       "      <th>taster_twitter_handle</th>\n",
       "      <th>title</th>\n",
       "      <th>variety</th>\n",
       "      <th>winery</th>\n",
       "      <th>vintage</th>\n",
       "    </tr>\n",
       "  </thead>\n",
       "  <tbody>\n",
       "    <tr>\n",
       "      <td>0</td>\n",
       "      <td>Italy</td>\n",
       "      <td>Aromas include tropical fruit, broom, brimston...</td>\n",
       "      <td>Vulkà Bianco</td>\n",
       "      <td>87</td>\n",
       "      <td>NaN</td>\n",
       "      <td>Sicily &amp; Sardinia</td>\n",
       "      <td>Etna</td>\n",
       "      <td>NaN</td>\n",
       "      <td>Kerin O’Keefe</td>\n",
       "      <td>@kerinokeefe</td>\n",
       "      <td>Nicosia 2013 Vulkà Bianco  (Etna)</td>\n",
       "      <td>White Blend</td>\n",
       "      <td>Nicosia</td>\n",
       "      <td>2013.0</td>\n",
       "    </tr>\n",
       "    <tr>\n",
       "      <td>1</td>\n",
       "      <td>Portugal</td>\n",
       "      <td>This is ripe and fruity, a wine that is smooth...</td>\n",
       "      <td>Avidagos</td>\n",
       "      <td>87</td>\n",
       "      <td>15.0</td>\n",
       "      <td>Douro</td>\n",
       "      <td>NaN</td>\n",
       "      <td>NaN</td>\n",
       "      <td>Roger Voss</td>\n",
       "      <td>@vossroger</td>\n",
       "      <td>Quinta dos Avidagos 2011 Avidagos Red (Douro)</td>\n",
       "      <td>Portuguese Red</td>\n",
       "      <td>Quinta dos Avidagos</td>\n",
       "      <td>2011.0</td>\n",
       "    </tr>\n",
       "    <tr>\n",
       "      <td>2</td>\n",
       "      <td>US</td>\n",
       "      <td>Tart and snappy, the flavors of lime flesh and...</td>\n",
       "      <td>NaN</td>\n",
       "      <td>87</td>\n",
       "      <td>14.0</td>\n",
       "      <td>Oregon</td>\n",
       "      <td>Willamette Valley</td>\n",
       "      <td>Willamette Valley</td>\n",
       "      <td>Paul Gregutt</td>\n",
       "      <td>@paulgwine</td>\n",
       "      <td>Rainstorm 2013 Pinot Gris (Willamette Valley)</td>\n",
       "      <td>Pinot Gris</td>\n",
       "      <td>Rainstorm</td>\n",
       "      <td>2013.0</td>\n",
       "    </tr>\n",
       "    <tr>\n",
       "      <td>3</td>\n",
       "      <td>US</td>\n",
       "      <td>Pineapple rind, lemon pith and orange blossom ...</td>\n",
       "      <td>Reserve Late Harvest</td>\n",
       "      <td>87</td>\n",
       "      <td>13.0</td>\n",
       "      <td>Michigan</td>\n",
       "      <td>Lake Michigan Shore</td>\n",
       "      <td>NaN</td>\n",
       "      <td>Alexander Peartree</td>\n",
       "      <td>NaN</td>\n",
       "      <td>St. Julian 2013 Reserve Late Harvest Riesling ...</td>\n",
       "      <td>Riesling</td>\n",
       "      <td>St. Julian</td>\n",
       "      <td>2013.0</td>\n",
       "    </tr>\n",
       "    <tr>\n",
       "      <td>4</td>\n",
       "      <td>US</td>\n",
       "      <td>Much like the regular bottling from 2012, this...</td>\n",
       "      <td>Vintner's Reserve Wild Child Block</td>\n",
       "      <td>87</td>\n",
       "      <td>65.0</td>\n",
       "      <td>Oregon</td>\n",
       "      <td>Willamette Valley</td>\n",
       "      <td>Willamette Valley</td>\n",
       "      <td>Paul Gregutt</td>\n",
       "      <td>@paulgwine</td>\n",
       "      <td>Sweet Cheeks 2012 Vintner's Reserve Wild Child...</td>\n",
       "      <td>Pinot Noir</td>\n",
       "      <td>Sweet Cheeks</td>\n",
       "      <td>2012.0</td>\n",
       "    </tr>\n",
       "  </tbody>\n",
       "</table>\n",
       "</div>"
      ],
      "text/plain": [
       "    country                                        description  \\\n",
       "0     Italy  Aromas include tropical fruit, broom, brimston...   \n",
       "1  Portugal  This is ripe and fruity, a wine that is smooth...   \n",
       "2        US  Tart and snappy, the flavors of lime flesh and...   \n",
       "3        US  Pineapple rind, lemon pith and orange blossom ...   \n",
       "4        US  Much like the regular bottling from 2012, this...   \n",
       "\n",
       "                          designation  points  price           province  \\\n",
       "0                        Vulkà Bianco      87    NaN  Sicily & Sardinia   \n",
       "1                            Avidagos      87   15.0              Douro   \n",
       "2                                 NaN      87   14.0             Oregon   \n",
       "3                Reserve Late Harvest      87   13.0           Michigan   \n",
       "4  Vintner's Reserve Wild Child Block      87   65.0             Oregon   \n",
       "\n",
       "              region_1           region_2         taster_name  \\\n",
       "0                 Etna                NaN       Kerin O’Keefe   \n",
       "1                  NaN                NaN          Roger Voss   \n",
       "2    Willamette Valley  Willamette Valley        Paul Gregutt   \n",
       "3  Lake Michigan Shore                NaN  Alexander Peartree   \n",
       "4    Willamette Valley  Willamette Valley        Paul Gregutt   \n",
       "\n",
       "  taster_twitter_handle                                              title  \\\n",
       "0          @kerinokeefe                  Nicosia 2013 Vulkà Bianco  (Etna)   \n",
       "1            @vossroger      Quinta dos Avidagos 2011 Avidagos Red (Douro)   \n",
       "2           @paulgwine       Rainstorm 2013 Pinot Gris (Willamette Valley)   \n",
       "3                   NaN  St. Julian 2013 Reserve Late Harvest Riesling ...   \n",
       "4           @paulgwine   Sweet Cheeks 2012 Vintner's Reserve Wild Child...   \n",
       "\n",
       "          variety               winery  vintage  \n",
       "0     White Blend              Nicosia   2013.0  \n",
       "1  Portuguese Red  Quinta dos Avidagos   2011.0  \n",
       "2      Pinot Gris            Rainstorm   2013.0  \n",
       "3        Riesling           St. Julian   2013.0  \n",
       "4      Pinot Noir         Sweet Cheeks   2012.0  "
      ]
     },
     "execution_count": 2,
     "metadata": {},
     "output_type": "execute_result"
    }
   ],
   "source": [
    "raw_winedata = pd.read_csv(\"../data/winemag-data-190314.csv\").drop(\"Unnamed: 0\", axis=1) # indexes were stored as col\n",
    "initial_number_of_rows = raw_winedata.shape[0]\n",
    "print(raw_winedata.shape)\n",
    "raw_winedata.head()"
   ]
  },
  {
   "cell_type": "code",
   "execution_count": 38,
   "metadata": {},
   "outputs": [
    {
     "name": "stdout",
     "output_type": "stream",
     "text": [
      "(1000, 14)\n"
     ]
    }
   ],
   "source": [
    "# random subset of 1000 descriptions\n",
    "# (in case there is any specific order in the original dataset)\n",
    "subset = raw_winedata.sample(1000, random_state=51)\n",
    "print(subset.shape)"
   ]
  },
  {
   "cell_type": "markdown",
   "metadata": {},
   "source": [
    "From now on, we will work with this subset only.\n",
    "\n",
    "## Data Processing\n",
    "\n",
    "No need to remove rows with missing values (for now) in this subset, nor to remove duplicate descriptions."
   ]
  },
  {
   "cell_type": "code",
   "execution_count": 39,
   "metadata": {},
   "outputs": [
    {
     "data": {
      "text/plain": [
       "country                    0\n",
       "description                0\n",
       "designation              286\n",
       "points                     0\n",
       "price                     59\n",
       "province                   0\n",
       "region_1                 170\n",
       "region_2                 637\n",
       "taster_name              158\n",
       "taster_twitter_handle    196\n",
       "title                      0\n",
       "variety                    0\n",
       "winery                     0\n",
       "vintage                   31\n",
       "dtype: int64"
      ]
     },
     "execution_count": 39,
     "metadata": {},
     "output_type": "execute_result"
    }
   ],
   "source": [
    "subset.isnull().sum()"
   ]
  },
  {
   "cell_type": "code",
   "execution_count": 40,
   "metadata": {},
   "outputs": [
    {
     "name": "stdout",
     "output_type": "stream",
     "text": [
      "number of duplicated descriptions:  0.0\n"
     ]
    }
   ],
   "source": [
    "duplicates_description  = subset[subset.duplicated(subset='description', keep=False)].sort_values(by='description')\n",
    "print('number of duplicated descriptions: ', duplicates_description.shape[0]/2)"
   ]
  },
  {
   "cell_type": "markdown",
   "metadata": {},
   "source": [
    "## Testing and Understanding spaCy\n",
    "\n",
    "Some code to test and understanc spaCy on the subset.\n"
   ]
  },
  {
   "cell_type": "code",
   "execution_count": 129,
   "metadata": {},
   "outputs": [],
   "source": [
    "nlp = spacy.load('en_core_web_md')"
   ]
  },
  {
   "cell_type": "code",
   "execution_count": 130,
   "metadata": {},
   "outputs": [
    {
     "name": "stdout",
     "output_type": "stream",
     "text": [
      "parser run in: 10.827577829360962  s.\n"
     ]
    }
   ],
   "source": [
    "# tokenization:\n",
    "time0 = time.time()\n",
    "descriptions = subset['description'].apply(nlp)\n",
    "print('parser run in:', time.time() - time0, ' s.')"
   ]
  },
  {
   "cell_type": "code",
   "execution_count": 131,
   "metadata": {},
   "outputs": [
    {
     "name": "stdout",
     "output_type": "stream",
     "text": [
      "parser run in: 0.004770755767822266  s.\n"
     ]
    }
   ],
   "source": [
    "# using nlp.pipe: Process the texts as a stream\n",
    "# and buffer them in batches, instead of one-by-one. \n",
    "# This is usually much more efficient.\n",
    "\n",
    "time0 = time.time()\n",
    "descriptions = subset['description'].apply(nlp.pipe)\n",
    "print('parser run in:', time.time() - time0, ' s.')"
   ]
  },
  {
   "cell_type": "markdown",
   "metadata": {},
   "source": [
    "Indeed! _nlp.pipe_ is a lot faster than _nlp_!"
   ]
  },
  {
   "cell_type": "code",
   "execution_count": 74,
   "metadata": {},
   "outputs": [
    {
     "data": {
      "text/plain": [
       "A delicious, balanced Pinot Noir. Shows dry, pure flavors of raspberries, cherries, cola and sandalwood, with a delicious, drink-me-now appeal."
      ]
     },
     "execution_count": 74,
     "metadata": {},
     "output_type": "execute_result"
    }
   ],
   "source": [
    "# need to cast as list if want to print spaCy Doc objects:\n",
    "list(descriptions)[0]"
   ]
  },
  {
   "cell_type": "code",
   "execution_count": 80,
   "metadata": {},
   "outputs": [
    {
     "name": "stdout",
     "output_type": "stream",
     "text": [
      "Pipeline ['tagger', 'parser', 'ner']\n"
     ]
    }
   ],
   "source": [
    "print(\"Pipeline\", nlp.pipe_names) # the different components of the model, forming the pipeline\n",
    "# + the tokenizer is not indicated and run at the beginning."
   ]
  },
  {
   "cell_type": "code",
   "execution_count": 75,
   "metadata": {},
   "outputs": [
    {
     "name": "stdout",
     "output_type": "stream",
     "text": [
      "A a DET DT det X True True\n",
      "delicious delicious ADJ JJ amod xxxx True False\n",
      ", , PUNCT , punct , False False\n",
      "balanced balanced ADJ JJ amod xxxx True False\n",
      "Pinot Pinot PROPN NNP compound Xxxxx True False\n",
      "Noir Noir PROPN NNP ROOT Xxxx True False\n",
      ". . PUNCT . punct . False False\n",
      "Shows show NOUN NNS ROOT Xxxxx True False\n",
      "dry dry ADJ JJ amod xxx True False\n",
      ", , PUNCT , punct , False False\n",
      "pure pure ADJ JJ amod xxxx True False\n",
      "flavors flavor NOUN NNS dobj xxxx True False\n",
      "of of ADP IN prep xx True True\n",
      "raspberries raspberry NOUN NNS pobj xxxx True False\n",
      ", , PUNCT , punct , False False\n",
      "cherries cherry NOUN NNS conj xxxx True False\n",
      ", , PUNCT , punct , False False\n",
      "cola cola NOUN NN conj xxxx True False\n",
      "and and CCONJ CC cc xxx True True\n",
      "sandalwood sandalwood NOUN NN conj xxxx True False\n",
      ", , PUNCT , punct , False False\n",
      "with with ADP IN prep xxxx True True\n",
      "a a DET DT det x True True\n",
      "delicious delicious ADJ JJ amod xxxx True False\n",
      ", , PUNCT , punct , False False\n",
      "drink drink VERB VB compound xxxx True False\n",
      "- - PUNCT HYPH punct - False False\n",
      "me -PRON- PRON PRP preconj xx True True\n",
      "- - PUNCT HYPH punct - False False\n",
      "now now ADV RB advmod xxx True True\n",
      "appeal appeal NOUN NN pobj xxxx True False\n",
      ". . PUNCT . punct . False False\n"
     ]
    }
   ],
   "source": [
    "for token in list(descriptions)[0]:\n",
    "    print(token.text, # Text: The original word text.\n",
    "          token.lemma_, # Lemma: The base form of the word.\n",
    "          token.pos_, # POS: The simple part-of-speech tag.\n",
    "          token.tag_, # Tag: The detailed part-of-speech tag.\n",
    "          token.dep_, # Dep: Syntactic dependency, i.e. the relation between tokens.\n",
    "          token.shape_, # Shape: The word shape – capitalization, punctuation, digits.\n",
    "          token.is_alpha, # is alpha: Is the token an alpha character? (alphanumeric)\n",
    "          token.is_stop # is stop: Is the token part of a stop list, i.e. the most common words of the language?\n",
    "         )"
   ]
  },
  {
   "cell_type": "code",
   "execution_count": 76,
   "metadata": {},
   "outputs": [
    {
     "data": {
      "text/html": [
       "<svg xmlns=\"http://www.w3.org/2000/svg\" xmlns:xlink=\"http://www.w3.org/1999/xlink\" xml:lang=\"en\" id=\"ca47bf61d38a49eba8f52916a83812ff-0\" class=\"displacy\" width=\"3900\" height=\"749.5\" direction=\"ltr\" style=\"max-width: none; height: 749.5px; color: #000000; background: #ffffff; font-family: Arial; direction: ltr\">\n",
       "<text class=\"displacy-token\" fill=\"currentColor\" text-anchor=\"middle\" y=\"659.5\">\n",
       "    <tspan class=\"displacy-word\" fill=\"currentColor\" x=\"50\">A</tspan>\n",
       "    <tspan class=\"displacy-tag\" dy=\"2em\" fill=\"currentColor\" x=\"50\">DET</tspan>\n",
       "</text>\n",
       "\n",
       "<text class=\"displacy-token\" fill=\"currentColor\" text-anchor=\"middle\" y=\"659.5\">\n",
       "    <tspan class=\"displacy-word\" fill=\"currentColor\" x=\"225\">delicious,</tspan>\n",
       "    <tspan class=\"displacy-tag\" dy=\"2em\" fill=\"currentColor\" x=\"225\">ADJ</tspan>\n",
       "</text>\n",
       "\n",
       "<text class=\"displacy-token\" fill=\"currentColor\" text-anchor=\"middle\" y=\"659.5\">\n",
       "    <tspan class=\"displacy-word\" fill=\"currentColor\" x=\"400\">balanced</tspan>\n",
       "    <tspan class=\"displacy-tag\" dy=\"2em\" fill=\"currentColor\" x=\"400\">ADJ</tspan>\n",
       "</text>\n",
       "\n",
       "<text class=\"displacy-token\" fill=\"currentColor\" text-anchor=\"middle\" y=\"659.5\">\n",
       "    <tspan class=\"displacy-word\" fill=\"currentColor\" x=\"575\">Pinot</tspan>\n",
       "    <tspan class=\"displacy-tag\" dy=\"2em\" fill=\"currentColor\" x=\"575\">PROPN</tspan>\n",
       "</text>\n",
       "\n",
       "<text class=\"displacy-token\" fill=\"currentColor\" text-anchor=\"middle\" y=\"659.5\">\n",
       "    <tspan class=\"displacy-word\" fill=\"currentColor\" x=\"750\">Noir.</tspan>\n",
       "    <tspan class=\"displacy-tag\" dy=\"2em\" fill=\"currentColor\" x=\"750\">PROPN</tspan>\n",
       "</text>\n",
       "\n",
       "<text class=\"displacy-token\" fill=\"currentColor\" text-anchor=\"middle\" y=\"659.5\">\n",
       "    <tspan class=\"displacy-word\" fill=\"currentColor\" x=\"925\">Shows</tspan>\n",
       "    <tspan class=\"displacy-tag\" dy=\"2em\" fill=\"currentColor\" x=\"925\">NOUN</tspan>\n",
       "</text>\n",
       "\n",
       "<text class=\"displacy-token\" fill=\"currentColor\" text-anchor=\"middle\" y=\"659.5\">\n",
       "    <tspan class=\"displacy-word\" fill=\"currentColor\" x=\"1100\">dry,</tspan>\n",
       "    <tspan class=\"displacy-tag\" dy=\"2em\" fill=\"currentColor\" x=\"1100\">ADJ</tspan>\n",
       "</text>\n",
       "\n",
       "<text class=\"displacy-token\" fill=\"currentColor\" text-anchor=\"middle\" y=\"659.5\">\n",
       "    <tspan class=\"displacy-word\" fill=\"currentColor\" x=\"1275\">pure</tspan>\n",
       "    <tspan class=\"displacy-tag\" dy=\"2em\" fill=\"currentColor\" x=\"1275\">ADJ</tspan>\n",
       "</text>\n",
       "\n",
       "<text class=\"displacy-token\" fill=\"currentColor\" text-anchor=\"middle\" y=\"659.5\">\n",
       "    <tspan class=\"displacy-word\" fill=\"currentColor\" x=\"1450\">flavors</tspan>\n",
       "    <tspan class=\"displacy-tag\" dy=\"2em\" fill=\"currentColor\" x=\"1450\">NOUN</tspan>\n",
       "</text>\n",
       "\n",
       "<text class=\"displacy-token\" fill=\"currentColor\" text-anchor=\"middle\" y=\"659.5\">\n",
       "    <tspan class=\"displacy-word\" fill=\"currentColor\" x=\"1625\">of</tspan>\n",
       "    <tspan class=\"displacy-tag\" dy=\"2em\" fill=\"currentColor\" x=\"1625\">ADP</tspan>\n",
       "</text>\n",
       "\n",
       "<text class=\"displacy-token\" fill=\"currentColor\" text-anchor=\"middle\" y=\"659.5\">\n",
       "    <tspan class=\"displacy-word\" fill=\"currentColor\" x=\"1800\">raspberries,</tspan>\n",
       "    <tspan class=\"displacy-tag\" dy=\"2em\" fill=\"currentColor\" x=\"1800\">NOUN</tspan>\n",
       "</text>\n",
       "\n",
       "<text class=\"displacy-token\" fill=\"currentColor\" text-anchor=\"middle\" y=\"659.5\">\n",
       "    <tspan class=\"displacy-word\" fill=\"currentColor\" x=\"1975\">cherries,</tspan>\n",
       "    <tspan class=\"displacy-tag\" dy=\"2em\" fill=\"currentColor\" x=\"1975\">NOUN</tspan>\n",
       "</text>\n",
       "\n",
       "<text class=\"displacy-token\" fill=\"currentColor\" text-anchor=\"middle\" y=\"659.5\">\n",
       "    <tspan class=\"displacy-word\" fill=\"currentColor\" x=\"2150\">cola</tspan>\n",
       "    <tspan class=\"displacy-tag\" dy=\"2em\" fill=\"currentColor\" x=\"2150\">NOUN</tspan>\n",
       "</text>\n",
       "\n",
       "<text class=\"displacy-token\" fill=\"currentColor\" text-anchor=\"middle\" y=\"659.5\">\n",
       "    <tspan class=\"displacy-word\" fill=\"currentColor\" x=\"2325\">and</tspan>\n",
       "    <tspan class=\"displacy-tag\" dy=\"2em\" fill=\"currentColor\" x=\"2325\">CCONJ</tspan>\n",
       "</text>\n",
       "\n",
       "<text class=\"displacy-token\" fill=\"currentColor\" text-anchor=\"middle\" y=\"659.5\">\n",
       "    <tspan class=\"displacy-word\" fill=\"currentColor\" x=\"2500\">sandalwood,</tspan>\n",
       "    <tspan class=\"displacy-tag\" dy=\"2em\" fill=\"currentColor\" x=\"2500\">NOUN</tspan>\n",
       "</text>\n",
       "\n",
       "<text class=\"displacy-token\" fill=\"currentColor\" text-anchor=\"middle\" y=\"659.5\">\n",
       "    <tspan class=\"displacy-word\" fill=\"currentColor\" x=\"2675\">with</tspan>\n",
       "    <tspan class=\"displacy-tag\" dy=\"2em\" fill=\"currentColor\" x=\"2675\">ADP</tspan>\n",
       "</text>\n",
       "\n",
       "<text class=\"displacy-token\" fill=\"currentColor\" text-anchor=\"middle\" y=\"659.5\">\n",
       "    <tspan class=\"displacy-word\" fill=\"currentColor\" x=\"2850\">a</tspan>\n",
       "    <tspan class=\"displacy-tag\" dy=\"2em\" fill=\"currentColor\" x=\"2850\">DET</tspan>\n",
       "</text>\n",
       "\n",
       "<text class=\"displacy-token\" fill=\"currentColor\" text-anchor=\"middle\" y=\"659.5\">\n",
       "    <tspan class=\"displacy-word\" fill=\"currentColor\" x=\"3025\">delicious,</tspan>\n",
       "    <tspan class=\"displacy-tag\" dy=\"2em\" fill=\"currentColor\" x=\"3025\">ADJ</tspan>\n",
       "</text>\n",
       "\n",
       "<text class=\"displacy-token\" fill=\"currentColor\" text-anchor=\"middle\" y=\"659.5\">\n",
       "    <tspan class=\"displacy-word\" fill=\"currentColor\" x=\"3200\">drink-</tspan>\n",
       "    <tspan class=\"displacy-tag\" dy=\"2em\" fill=\"currentColor\" x=\"3200\">VERB</tspan>\n",
       "</text>\n",
       "\n",
       "<text class=\"displacy-token\" fill=\"currentColor\" text-anchor=\"middle\" y=\"659.5\">\n",
       "    <tspan class=\"displacy-word\" fill=\"currentColor\" x=\"3375\">me-</tspan>\n",
       "    <tspan class=\"displacy-tag\" dy=\"2em\" fill=\"currentColor\" x=\"3375\">PRON</tspan>\n",
       "</text>\n",
       "\n",
       "<text class=\"displacy-token\" fill=\"currentColor\" text-anchor=\"middle\" y=\"659.5\">\n",
       "    <tspan class=\"displacy-word\" fill=\"currentColor\" x=\"3550\">now</tspan>\n",
       "    <tspan class=\"displacy-tag\" dy=\"2em\" fill=\"currentColor\" x=\"3550\">ADV</tspan>\n",
       "</text>\n",
       "\n",
       "<text class=\"displacy-token\" fill=\"currentColor\" text-anchor=\"middle\" y=\"659.5\">\n",
       "    <tspan class=\"displacy-word\" fill=\"currentColor\" x=\"3725\">appeal.</tspan>\n",
       "    <tspan class=\"displacy-tag\" dy=\"2em\" fill=\"currentColor\" x=\"3725\">NOUN</tspan>\n",
       "</text>\n",
       "\n",
       "<g class=\"displacy-arrow\">\n",
       "    <path class=\"displacy-arc\" id=\"arrow-ca47bf61d38a49eba8f52916a83812ff-0-0\" stroke-width=\"2px\" d=\"M70,614.5 C70,264.5 735.0,264.5 735.0,614.5\" fill=\"none\" stroke=\"currentColor\"/>\n",
       "    <text dy=\"1.25em\" style=\"font-size: 0.8em; letter-spacing: 1px\">\n",
       "        <textPath xlink:href=\"#arrow-ca47bf61d38a49eba8f52916a83812ff-0-0\" class=\"displacy-label\" startOffset=\"50%\" side=\"left\" fill=\"currentColor\" text-anchor=\"middle\">det</textPath>\n",
       "    </text>\n",
       "    <path class=\"displacy-arrowhead\" d=\"M70,616.5 L62,604.5 78,604.5\" fill=\"currentColor\"/>\n",
       "</g>\n",
       "\n",
       "<g class=\"displacy-arrow\">\n",
       "    <path class=\"displacy-arc\" id=\"arrow-ca47bf61d38a49eba8f52916a83812ff-0-1\" stroke-width=\"2px\" d=\"M245,614.5 C245,352.0 730.0,352.0 730.0,614.5\" fill=\"none\" stroke=\"currentColor\"/>\n",
       "    <text dy=\"1.25em\" style=\"font-size: 0.8em; letter-spacing: 1px\">\n",
       "        <textPath xlink:href=\"#arrow-ca47bf61d38a49eba8f52916a83812ff-0-1\" class=\"displacy-label\" startOffset=\"50%\" side=\"left\" fill=\"currentColor\" text-anchor=\"middle\">amod</textPath>\n",
       "    </text>\n",
       "    <path class=\"displacy-arrowhead\" d=\"M245,616.5 L237,604.5 253,604.5\" fill=\"currentColor\"/>\n",
       "</g>\n",
       "\n",
       "<g class=\"displacy-arrow\">\n",
       "    <path class=\"displacy-arc\" id=\"arrow-ca47bf61d38a49eba8f52916a83812ff-0-2\" stroke-width=\"2px\" d=\"M420,614.5 C420,439.5 725.0,439.5 725.0,614.5\" fill=\"none\" stroke=\"currentColor\"/>\n",
       "    <text dy=\"1.25em\" style=\"font-size: 0.8em; letter-spacing: 1px\">\n",
       "        <textPath xlink:href=\"#arrow-ca47bf61d38a49eba8f52916a83812ff-0-2\" class=\"displacy-label\" startOffset=\"50%\" side=\"left\" fill=\"currentColor\" text-anchor=\"middle\">amod</textPath>\n",
       "    </text>\n",
       "    <path class=\"displacy-arrowhead\" d=\"M420,616.5 L412,604.5 428,604.5\" fill=\"currentColor\"/>\n",
       "</g>\n",
       "\n",
       "<g class=\"displacy-arrow\">\n",
       "    <path class=\"displacy-arc\" id=\"arrow-ca47bf61d38a49eba8f52916a83812ff-0-3\" stroke-width=\"2px\" d=\"M595,614.5 C595,527.0 720.0,527.0 720.0,614.5\" fill=\"none\" stroke=\"currentColor\"/>\n",
       "    <text dy=\"1.25em\" style=\"font-size: 0.8em; letter-spacing: 1px\">\n",
       "        <textPath xlink:href=\"#arrow-ca47bf61d38a49eba8f52916a83812ff-0-3\" class=\"displacy-label\" startOffset=\"50%\" side=\"left\" fill=\"currentColor\" text-anchor=\"middle\">compound</textPath>\n",
       "    </text>\n",
       "    <path class=\"displacy-arrowhead\" d=\"M595,616.5 L587,604.5 603,604.5\" fill=\"currentColor\"/>\n",
       "</g>\n",
       "\n",
       "<g class=\"displacy-arrow\">\n",
       "    <path class=\"displacy-arc\" id=\"arrow-ca47bf61d38a49eba8f52916a83812ff-0-4\" stroke-width=\"2px\" d=\"M1120,614.5 C1120,439.5 1425.0,439.5 1425.0,614.5\" fill=\"none\" stroke=\"currentColor\"/>\n",
       "    <text dy=\"1.25em\" style=\"font-size: 0.8em; letter-spacing: 1px\">\n",
       "        <textPath xlink:href=\"#arrow-ca47bf61d38a49eba8f52916a83812ff-0-4\" class=\"displacy-label\" startOffset=\"50%\" side=\"left\" fill=\"currentColor\" text-anchor=\"middle\">amod</textPath>\n",
       "    </text>\n",
       "    <path class=\"displacy-arrowhead\" d=\"M1120,616.5 L1112,604.5 1128,604.5\" fill=\"currentColor\"/>\n",
       "</g>\n",
       "\n",
       "<g class=\"displacy-arrow\">\n",
       "    <path class=\"displacy-arc\" id=\"arrow-ca47bf61d38a49eba8f52916a83812ff-0-5\" stroke-width=\"2px\" d=\"M1295,614.5 C1295,527.0 1420.0,527.0 1420.0,614.5\" fill=\"none\" stroke=\"currentColor\"/>\n",
       "    <text dy=\"1.25em\" style=\"font-size: 0.8em; letter-spacing: 1px\">\n",
       "        <textPath xlink:href=\"#arrow-ca47bf61d38a49eba8f52916a83812ff-0-5\" class=\"displacy-label\" startOffset=\"50%\" side=\"left\" fill=\"currentColor\" text-anchor=\"middle\">amod</textPath>\n",
       "    </text>\n",
       "    <path class=\"displacy-arrowhead\" d=\"M1295,616.5 L1287,604.5 1303,604.5\" fill=\"currentColor\"/>\n",
       "</g>\n",
       "\n",
       "<g class=\"displacy-arrow\">\n",
       "    <path class=\"displacy-arc\" id=\"arrow-ca47bf61d38a49eba8f52916a83812ff-0-6\" stroke-width=\"2px\" d=\"M945,614.5 C945,352.0 1430.0,352.0 1430.0,614.5\" fill=\"none\" stroke=\"currentColor\"/>\n",
       "    <text dy=\"1.25em\" style=\"font-size: 0.8em; letter-spacing: 1px\">\n",
       "        <textPath xlink:href=\"#arrow-ca47bf61d38a49eba8f52916a83812ff-0-6\" class=\"displacy-label\" startOffset=\"50%\" side=\"left\" fill=\"currentColor\" text-anchor=\"middle\">dobj</textPath>\n",
       "    </text>\n",
       "    <path class=\"displacy-arrowhead\" d=\"M1430.0,616.5 L1438.0,604.5 1422.0,604.5\" fill=\"currentColor\"/>\n",
       "</g>\n",
       "\n",
       "<g class=\"displacy-arrow\">\n",
       "    <path class=\"displacy-arc\" id=\"arrow-ca47bf61d38a49eba8f52916a83812ff-0-7\" stroke-width=\"2px\" d=\"M1470,614.5 C1470,527.0 1595.0,527.0 1595.0,614.5\" fill=\"none\" stroke=\"currentColor\"/>\n",
       "    <text dy=\"1.25em\" style=\"font-size: 0.8em; letter-spacing: 1px\">\n",
       "        <textPath xlink:href=\"#arrow-ca47bf61d38a49eba8f52916a83812ff-0-7\" class=\"displacy-label\" startOffset=\"50%\" side=\"left\" fill=\"currentColor\" text-anchor=\"middle\">prep</textPath>\n",
       "    </text>\n",
       "    <path class=\"displacy-arrowhead\" d=\"M1595.0,616.5 L1603.0,604.5 1587.0,604.5\" fill=\"currentColor\"/>\n",
       "</g>\n",
       "\n",
       "<g class=\"displacy-arrow\">\n",
       "    <path class=\"displacy-arc\" id=\"arrow-ca47bf61d38a49eba8f52916a83812ff-0-8\" stroke-width=\"2px\" d=\"M1645,614.5 C1645,527.0 1770.0,527.0 1770.0,614.5\" fill=\"none\" stroke=\"currentColor\"/>\n",
       "    <text dy=\"1.25em\" style=\"font-size: 0.8em; letter-spacing: 1px\">\n",
       "        <textPath xlink:href=\"#arrow-ca47bf61d38a49eba8f52916a83812ff-0-8\" class=\"displacy-label\" startOffset=\"50%\" side=\"left\" fill=\"currentColor\" text-anchor=\"middle\">pobj</textPath>\n",
       "    </text>\n",
       "    <path class=\"displacy-arrowhead\" d=\"M1770.0,616.5 L1778.0,604.5 1762.0,604.5\" fill=\"currentColor\"/>\n",
       "</g>\n",
       "\n",
       "<g class=\"displacy-arrow\">\n",
       "    <path class=\"displacy-arc\" id=\"arrow-ca47bf61d38a49eba8f52916a83812ff-0-9\" stroke-width=\"2px\" d=\"M1820,614.5 C1820,527.0 1945.0,527.0 1945.0,614.5\" fill=\"none\" stroke=\"currentColor\"/>\n",
       "    <text dy=\"1.25em\" style=\"font-size: 0.8em; letter-spacing: 1px\">\n",
       "        <textPath xlink:href=\"#arrow-ca47bf61d38a49eba8f52916a83812ff-0-9\" class=\"displacy-label\" startOffset=\"50%\" side=\"left\" fill=\"currentColor\" text-anchor=\"middle\">conj</textPath>\n",
       "    </text>\n",
       "    <path class=\"displacy-arrowhead\" d=\"M1945.0,616.5 L1953.0,604.5 1937.0,604.5\" fill=\"currentColor\"/>\n",
       "</g>\n",
       "\n",
       "<g class=\"displacy-arrow\">\n",
       "    <path class=\"displacy-arc\" id=\"arrow-ca47bf61d38a49eba8f52916a83812ff-0-10\" stroke-width=\"2px\" d=\"M1995,614.5 C1995,527.0 2120.0,527.0 2120.0,614.5\" fill=\"none\" stroke=\"currentColor\"/>\n",
       "    <text dy=\"1.25em\" style=\"font-size: 0.8em; letter-spacing: 1px\">\n",
       "        <textPath xlink:href=\"#arrow-ca47bf61d38a49eba8f52916a83812ff-0-10\" class=\"displacy-label\" startOffset=\"50%\" side=\"left\" fill=\"currentColor\" text-anchor=\"middle\">conj</textPath>\n",
       "    </text>\n",
       "    <path class=\"displacy-arrowhead\" d=\"M2120.0,616.5 L2128.0,604.5 2112.0,604.5\" fill=\"currentColor\"/>\n",
       "</g>\n",
       "\n",
       "<g class=\"displacy-arrow\">\n",
       "    <path class=\"displacy-arc\" id=\"arrow-ca47bf61d38a49eba8f52916a83812ff-0-11\" stroke-width=\"2px\" d=\"M2170,614.5 C2170,527.0 2295.0,527.0 2295.0,614.5\" fill=\"none\" stroke=\"currentColor\"/>\n",
       "    <text dy=\"1.25em\" style=\"font-size: 0.8em; letter-spacing: 1px\">\n",
       "        <textPath xlink:href=\"#arrow-ca47bf61d38a49eba8f52916a83812ff-0-11\" class=\"displacy-label\" startOffset=\"50%\" side=\"left\" fill=\"currentColor\" text-anchor=\"middle\">cc</textPath>\n",
       "    </text>\n",
       "    <path class=\"displacy-arrowhead\" d=\"M2295.0,616.5 L2303.0,604.5 2287.0,604.5\" fill=\"currentColor\"/>\n",
       "</g>\n",
       "\n",
       "<g class=\"displacy-arrow\">\n",
       "    <path class=\"displacy-arc\" id=\"arrow-ca47bf61d38a49eba8f52916a83812ff-0-12\" stroke-width=\"2px\" d=\"M2170,614.5 C2170,439.5 2475.0,439.5 2475.0,614.5\" fill=\"none\" stroke=\"currentColor\"/>\n",
       "    <text dy=\"1.25em\" style=\"font-size: 0.8em; letter-spacing: 1px\">\n",
       "        <textPath xlink:href=\"#arrow-ca47bf61d38a49eba8f52916a83812ff-0-12\" class=\"displacy-label\" startOffset=\"50%\" side=\"left\" fill=\"currentColor\" text-anchor=\"middle\">conj</textPath>\n",
       "    </text>\n",
       "    <path class=\"displacy-arrowhead\" d=\"M2475.0,616.5 L2483.0,604.5 2467.0,604.5\" fill=\"currentColor\"/>\n",
       "</g>\n",
       "\n",
       "<g class=\"displacy-arrow\">\n",
       "    <path class=\"displacy-arc\" id=\"arrow-ca47bf61d38a49eba8f52916a83812ff-0-13\" stroke-width=\"2px\" d=\"M945,614.5 C945,2.0 2675.0,2.0 2675.0,614.5\" fill=\"none\" stroke=\"currentColor\"/>\n",
       "    <text dy=\"1.25em\" style=\"font-size: 0.8em; letter-spacing: 1px\">\n",
       "        <textPath xlink:href=\"#arrow-ca47bf61d38a49eba8f52916a83812ff-0-13\" class=\"displacy-label\" startOffset=\"50%\" side=\"left\" fill=\"currentColor\" text-anchor=\"middle\">prep</textPath>\n",
       "    </text>\n",
       "    <path class=\"displacy-arrowhead\" d=\"M2675.0,616.5 L2683.0,604.5 2667.0,604.5\" fill=\"currentColor\"/>\n",
       "</g>\n",
       "\n",
       "<g class=\"displacy-arrow\">\n",
       "    <path class=\"displacy-arc\" id=\"arrow-ca47bf61d38a49eba8f52916a83812ff-0-14\" stroke-width=\"2px\" d=\"M2870,614.5 C2870,177.0 3715.0,177.0 3715.0,614.5\" fill=\"none\" stroke=\"currentColor\"/>\n",
       "    <text dy=\"1.25em\" style=\"font-size: 0.8em; letter-spacing: 1px\">\n",
       "        <textPath xlink:href=\"#arrow-ca47bf61d38a49eba8f52916a83812ff-0-14\" class=\"displacy-label\" startOffset=\"50%\" side=\"left\" fill=\"currentColor\" text-anchor=\"middle\">det</textPath>\n",
       "    </text>\n",
       "    <path class=\"displacy-arrowhead\" d=\"M2870,616.5 L2862,604.5 2878,604.5\" fill=\"currentColor\"/>\n",
       "</g>\n",
       "\n",
       "<g class=\"displacy-arrow\">\n",
       "    <path class=\"displacy-arc\" id=\"arrow-ca47bf61d38a49eba8f52916a83812ff-0-15\" stroke-width=\"2px\" d=\"M3045,614.5 C3045,439.5 3350.0,439.5 3350.0,614.5\" fill=\"none\" stroke=\"currentColor\"/>\n",
       "    <text dy=\"1.25em\" style=\"font-size: 0.8em; letter-spacing: 1px\">\n",
       "        <textPath xlink:href=\"#arrow-ca47bf61d38a49eba8f52916a83812ff-0-15\" class=\"displacy-label\" startOffset=\"50%\" side=\"left\" fill=\"currentColor\" text-anchor=\"middle\">amod</textPath>\n",
       "    </text>\n",
       "    <path class=\"displacy-arrowhead\" d=\"M3045,616.5 L3037,604.5 3053,604.5\" fill=\"currentColor\"/>\n",
       "</g>\n",
       "\n",
       "<g class=\"displacy-arrow\">\n",
       "    <path class=\"displacy-arc\" id=\"arrow-ca47bf61d38a49eba8f52916a83812ff-0-16\" stroke-width=\"2px\" d=\"M3220,614.5 C3220,527.0 3345.0,527.0 3345.0,614.5\" fill=\"none\" stroke=\"currentColor\"/>\n",
       "    <text dy=\"1.25em\" style=\"font-size: 0.8em; letter-spacing: 1px\">\n",
       "        <textPath xlink:href=\"#arrow-ca47bf61d38a49eba8f52916a83812ff-0-16\" class=\"displacy-label\" startOffset=\"50%\" side=\"left\" fill=\"currentColor\" text-anchor=\"middle\">compound</textPath>\n",
       "    </text>\n",
       "    <path class=\"displacy-arrowhead\" d=\"M3220,616.5 L3212,604.5 3228,604.5\" fill=\"currentColor\"/>\n",
       "</g>\n",
       "\n",
       "<g class=\"displacy-arrow\">\n",
       "    <path class=\"displacy-arc\" id=\"arrow-ca47bf61d38a49eba8f52916a83812ff-0-17\" stroke-width=\"2px\" d=\"M2870,614.5 C2870,352.0 3355.0,352.0 3355.0,614.5\" fill=\"none\" stroke=\"currentColor\"/>\n",
       "    <text dy=\"1.25em\" style=\"font-size: 0.8em; letter-spacing: 1px\">\n",
       "        <textPath xlink:href=\"#arrow-ca47bf61d38a49eba8f52916a83812ff-0-17\" class=\"displacy-label\" startOffset=\"50%\" side=\"left\" fill=\"currentColor\" text-anchor=\"middle\">preconj</textPath>\n",
       "    </text>\n",
       "    <path class=\"displacy-arrowhead\" d=\"M3355.0,616.5 L3363.0,604.5 3347.0,604.5\" fill=\"currentColor\"/>\n",
       "</g>\n",
       "\n",
       "<g class=\"displacy-arrow\">\n",
       "    <path class=\"displacy-arc\" id=\"arrow-ca47bf61d38a49eba8f52916a83812ff-0-18\" stroke-width=\"2px\" d=\"M3570,614.5 C3570,527.0 3695.0,527.0 3695.0,614.5\" fill=\"none\" stroke=\"currentColor\"/>\n",
       "    <text dy=\"1.25em\" style=\"font-size: 0.8em; letter-spacing: 1px\">\n",
       "        <textPath xlink:href=\"#arrow-ca47bf61d38a49eba8f52916a83812ff-0-18\" class=\"displacy-label\" startOffset=\"50%\" side=\"left\" fill=\"currentColor\" text-anchor=\"middle\">advmod</textPath>\n",
       "    </text>\n",
       "    <path class=\"displacy-arrowhead\" d=\"M3570,616.5 L3562,604.5 3578,604.5\" fill=\"currentColor\"/>\n",
       "</g>\n",
       "\n",
       "<g class=\"displacy-arrow\">\n",
       "    <path class=\"displacy-arc\" id=\"arrow-ca47bf61d38a49eba8f52916a83812ff-0-19\" stroke-width=\"2px\" d=\"M2695,614.5 C2695,89.5 3720.0,89.5 3720.0,614.5\" fill=\"none\" stroke=\"currentColor\"/>\n",
       "    <text dy=\"1.25em\" style=\"font-size: 0.8em; letter-spacing: 1px\">\n",
       "        <textPath xlink:href=\"#arrow-ca47bf61d38a49eba8f52916a83812ff-0-19\" class=\"displacy-label\" startOffset=\"50%\" side=\"left\" fill=\"currentColor\" text-anchor=\"middle\">pobj</textPath>\n",
       "    </text>\n",
       "    <path class=\"displacy-arrowhead\" d=\"M3720.0,616.5 L3728.0,604.5 3712.0,604.5\" fill=\"currentColor\"/>\n",
       "</g>\n",
       "</svg>"
      ],
      "text/plain": [
       "<IPython.core.display.HTML object>"
      ]
     },
     "metadata": {},
     "output_type": "display_data"
    }
   ],
   "source": [
    "spacy.displacy.render(list(descriptions)[0], style='dep')"
   ]
  },
  {
   "cell_type": "code",
   "execution_count": 92,
   "metadata": {},
   "outputs": [
    {
     "name": "stdout",
     "output_type": "stream",
     "text": [
      "Verdejo 28 35 ORG\n",
      "cool years 60 70 DATE\n",
      "2009 78 82 DATE\n"
     ]
    }
   ],
   "source": [
    "# NER not workng... not sure why?\n",
    "for ent in list(descriptions)[2].ents:\n",
    "    print(ent.text, ent.start_char, ent.end_char, ent.label_)"
   ]
  },
  {
   "cell_type": "code",
   "execution_count": 93,
   "metadata": {
    "scrolled": false
   },
   "outputs": [
    {
     "name": "stderr",
     "output_type": "stream",
     "text": [
      "/usr/local/Cellar/python/3.7.4/Frameworks/Python.framework/Versions/3.7/lib/python3.7/runpy.py:193: UserWarning: [W011] It looks like you're calling displacy.serve from within a Jupyter notebook or a similar environment. This likely means you're already running a local web server, so there's no need to make displaCy start another one. Instead, you should be able to replace displacy.serve with displacy.render to show the visualization.\n",
      "  \"__main__\", mod_spec)\n"
     ]
    },
    {
     "data": {
      "text/html": [
       "<!DOCTYPE html>\n",
       "<html lang=\"en\">\n",
       "    <head>\n",
       "        <title>displaCy</title>\n",
       "    </head>\n",
       "\n",
       "    <body style=\"font-size: 16px; font-family: -apple-system, BlinkMacSystemFont, 'Segoe UI', Helvetica, Arial, sans-serif, 'Apple Color Emoji', 'Segoe UI Emoji', 'Segoe UI Symbol'; padding: 4rem 2rem; direction: ltr\">\n",
       "<figure style=\"margin-bottom: 6rem\">\n",
       "<div class=\"entities\" style=\"line-height: 2.5; direction: ltr\">This style of oak-fermented \n",
       "<mark class=\"entity\" style=\"background: #7aecec; padding: 0.45em 0.6em; margin: 0 0.25em; line-height: 1; border-radius: 0.35em; box-decoration-break: clone; -webkit-box-decoration-break: clone\">\n",
       "    Verdejo\n",
       "    <span style=\"font-size: 0.8em; font-weight: bold; line-height: 1; border-radius: 0.35em; text-transform: uppercase; vertical-align: middle; margin-left: 0.5rem\">ORG</span>\n",
       "</mark>\n",
       " probably does better in \n",
       "<mark class=\"entity\" style=\"background: #bfe1d9; padding: 0.45em 0.6em; margin: 0 0.25em; line-height: 1; border-radius: 0.35em; box-decoration-break: clone; -webkit-box-decoration-break: clone\">\n",
       "    cool years\n",
       "    <span style=\"font-size: 0.8em; font-weight: bold; line-height: 1; border-radius: 0.35em; text-transform: uppercase; vertical-align: middle; margin-left: 0.5rem\">DATE</span>\n",
       "</mark>\n",
       ", which \n",
       "<mark class=\"entity\" style=\"background: #bfe1d9; padding: 0.45em 0.6em; margin: 0 0.25em; line-height: 1; border-radius: 0.35em; box-decoration-break: clone; -webkit-box-decoration-break: clone\">\n",
       "    2009\n",
       "    <span style=\"font-size: 0.8em; font-weight: bold; line-height: 1; border-radius: 0.35em; text-transform: uppercase; vertical-align: middle; margin-left: 0.5rem\">DATE</span>\n",
       "</mark>\n",
       " was not. As a result, this smells a bit oxidized and nutty, with baked apple scents. In the mouth, it is weighty and a touch dull; flavors of butterscotch and cashew finish with cider, salt and buttery notes. Drink now.</div>\n",
       "</figure>\n",
       "</body>\n",
       "</html>"
      ],
      "text/plain": [
       "<IPython.core.display.HTML object>"
      ]
     },
     "metadata": {},
     "output_type": "display_data"
    },
    {
     "name": "stdout",
     "output_type": "stream",
     "text": [
      "\n",
      "Using the 'ent' visualizer\n",
      "Serving on http://0.0.0.0:5000 ...\n",
      "\n",
      "Shutting down server on port 5000.\n"
     ]
    }
   ],
   "source": [
    "spacy.displacy.serve(list(descriptions)[2], style=\"ent\")\n",
    "# need to stop kernel to shut down server."
   ]
  },
  {
   "cell_type": "code",
   "execution_count": 94,
   "metadata": {},
   "outputs": [
    {
     "name": "stdout",
     "output_type": "stream",
     "text": [
      "A True 5.306696 False\n",
      "delicious True 7.171026 False\n",
      ", True 5.094723 False\n",
      "balanced True 6.4426575 False\n",
      "Pinot True 7.5997887 False\n",
      "Noir True 6.878326 False\n",
      ". True 4.9316354 False\n",
      "Shows True 5.2839694 False\n",
      "dry True 6.768264 False\n",
      ", True 5.094723 False\n",
      "pure True 6.4195275 False\n",
      "flavors True 7.584025 False\n",
      "of True 4.97793 False\n",
      "raspberries True 7.4071903 False\n",
      ", True 5.094723 False\n",
      "cherries True 7.4071903 False\n",
      ", True 5.094723 False\n",
      "cola True 6.54571 False\n",
      "and True 4.6577983 False\n",
      "sandalwood True 7.4872804 False\n",
      ", True 5.094723 False\n",
      "with True 4.7708583 False\n",
      "a True 5.306696 False\n",
      "delicious True 7.171026 False\n",
      ", True 5.094723 False\n",
      "drink True 6.9833527 False\n",
      "- True 5.6033444 False\n",
      "me True 5.75488 False\n",
      "- True 5.6033444 False\n",
      "now True 4.8410244 False\n",
      "appeal True 5.9267282 False\n",
      ". True 4.9316354 False\n"
     ]
    }
   ],
   "source": [
    "# print vectors:\n",
    "for token in list(descriptions)[0]:\n",
    "    print(token.text, token.has_vector, token.vector_norm, token.is_oov)"
   ]
  },
  {
   "cell_type": "markdown",
   "metadata": {},
   "source": [
    "Open [this link](https://spacy.io/usage/rule-based-matching#adding-patterns-attributes) to see what are all the tokens attributes."
   ]
  },
  {
   "cell_type": "code",
   "execution_count": 71,
   "metadata": {},
   "outputs": [
    {
     "name": "stdout",
     "output_type": "stream",
     "text": [
      "parser run in: 5.848058223724365  s.\n"
     ]
    }
   ],
   "source": [
    "# For now, we just want to tokenize and we will probably not use the parser (POS tags),\n",
    "# how faster is the processing?\n",
    "# tokenizing:\n",
    "time0 = time.time()\n",
    "descriptions = subset['description'].apply(nlp, disable=[\"parser\"])\n",
    "print('parser run in:', time.time() - time0, ' s.')\n"
   ]
  },
  {
   "cell_type": "code",
   "execution_count": 95,
   "metadata": {},
   "outputs": [
    {
     "name": "stdout",
     "output_type": "stream",
     "text": [
      "parser run in: 0.1649169921875  s.\n"
     ]
    }
   ],
   "source": [
    "# if we disable all the components and keep only tokenization:\n",
    "time0 = time.time()\n",
    "descriptions = subset['description'].apply(nlp, disable=['tagger', 'parser', 'ner'])\n",
    "print('parser run in:', time.time() - time0, ' s.')\n",
    "\n",
    "# a lot faster! That will be important when processing all the descriptions (full dataset)"
   ]
  },
  {
   "cell_type": "code",
   "execution_count": 97,
   "metadata": {},
   "outputs": [
    {
     "name": "stdout",
     "output_type": "stream",
     "text": [
      "A True 5.306696 False\n",
      "delicious True 7.171026 False\n",
      ", True 5.094723 False\n",
      "balanced True 6.4426575 False\n",
      "Pinot True 7.5997887 False\n",
      "Noir True 6.878326 False\n",
      ". True 4.9316354 False\n",
      "Shows True 5.2839694 False\n",
      "dry True 6.768264 False\n",
      ", True 5.094723 False\n",
      "pure True 6.4195275 False\n",
      "flavors True 7.584025 False\n",
      "of True 4.97793 False\n",
      "raspberries True 7.4071903 False\n",
      ", True 5.094723 False\n",
      "cherries True 7.4071903 False\n",
      ", True 5.094723 False\n",
      "cola True 6.54571 False\n",
      "and True 4.6577983 False\n",
      "sandalwood True 7.4872804 False\n",
      ", True 5.094723 False\n",
      "with True 4.7708583 False\n",
      "a True 5.306696 False\n",
      "delicious True 7.171026 False\n",
      ", True 5.094723 False\n",
      "drink True 6.9833527 False\n",
      "- True 5.6033444 False\n",
      "me True 5.75488 False\n",
      "- True 5.6033444 False\n",
      "now True 4.8410244 False\n",
      "appeal True 5.9267282 False\n",
      ". True 4.9316354 False\n"
     ]
    }
   ],
   "source": [
    "# check if we still have the vectors when disabling ['tagger', 'parser', 'ner']\n",
    "for token in list(descriptions)[0]:\n",
    "    print(token.text, token.has_vector, token.vector_norm, token.is_oov)\n",
    "\n",
    "# WE DO !"
   ]
  },
  {
   "cell_type": "code",
   "execution_count": 109,
   "metadata": {
    "scrolled": false
   },
   "outputs": [
    {
     "name": "stdout",
     "output_type": "stream",
     "text": [
      "balanced A 0.33048978\n",
      "balanced delicious 0.35654667\n",
      "balanced , 0.1519814\n",
      "balanced balanced 1.0\n",
      "balanced Pinot 0.30750036\n",
      "balanced Noir 0.15775882\n",
      "balanced . 0.19880065\n",
      "balanced Shows 0.19468865\n",
      "balanced dry 0.34358656\n",
      "balanced , 0.1519814\n",
      "balanced pure 0.41958594\n",
      "balanced flavors 0.4269035\n",
      "balanced of 0.18883164\n",
      "balanced raspberries 0.21687455\n",
      "balanced , 0.1519814\n",
      "balanced cherries 0.21687455\n",
      "balanced , 0.1519814\n",
      "balanced cola 0.20375118\n",
      "balanced and 0.29367846\n",
      "balanced sandalwood 0.29296434\n",
      "balanced , 0.1519814\n",
      "balanced with 0.33131588\n",
      "balanced a 0.33048978\n",
      "balanced delicious 0.35654667\n",
      "balanced , 0.1519814\n",
      "balanced drink 0.31249914\n",
      "balanced - 0.059531394\n",
      "balanced me 0.19236864\n",
      "balanced - 0.059531394\n",
      "balanced now 0.15937865\n",
      "balanced appeal 0.23878936\n",
      "balanced . 0.19880065\n"
     ]
    }
   ],
   "source": [
    "# Each Doc, Span and Token comes with a .similarity() method \n",
    "for token1 in list(descriptions)[0][3:4]:\n",
    "    for token2 in list(descriptions)[0]:\n",
    "        print(token1.text, token2.text, token1.similarity(token2))"
   ]
  },
  {
   "cell_type": "code",
   "execution_count": 113,
   "metadata": {},
   "outputs": [
    {
     "data": {
      "text/plain": [
       "20000"
      ]
     },
     "execution_count": 113,
     "metadata": {},
     "output_type": "execute_result"
    }
   ],
   "source": [
    "# vectors for medium model: 20'000 terms and 300 dimensions:\n",
    "len(nlp.vocab.vectors)"
   ]
  },
  {
   "cell_type": "code",
   "execution_count": 118,
   "metadata": {},
   "outputs": [
    {
     "data": {
      "text/plain": [
       "array([-5.0629e-01, -9.2535e-02,  5.1896e-01, -1.0059e+00,  7.7771e-01,\n",
       "        2.1284e-01,  1.2649e-01,  1.1408e-01, -4.2443e-02,  1.8741e+00,\n",
       "       -6.3908e-01,  4.5790e-01, -4.0649e-01, -5.3637e-01,  1.0609e-01,\n",
       "       -8.7617e-01, -5.6196e-01,  1.5024e+00,  2.1300e-01, -3.5320e-01,\n",
       "       -1.4053e-01, -4.1087e-01,  3.0588e-01,  3.4842e-02, -5.3801e-01,\n",
       "        1.1918e-01, -2.1134e-02,  4.3866e-01, -2.0190e-01, -2.2332e-01,\n",
       "        1.8903e-02,  1.9194e-01,  8.1535e-01,  9.6442e-02, -4.3574e-01,\n",
       "        9.5558e-01,  3.6137e-01, -4.1387e-01,  2.8160e-01,  3.1058e-01,\n",
       "        7.1966e-03,  2.9827e-01,  2.7132e-01, -3.5750e-01,  7.2742e-02,\n",
       "       -2.5117e-02,  2.3366e-01, -4.4472e-01, -1.7822e-01,  2.8943e-01,\n",
       "       -9.4849e-02, -4.1734e-01, -1.4773e-03,  1.5498e-02,  7.4254e-01,\n",
       "       -6.7351e-01,  1.1987e-01, -2.7886e-01, -2.5243e-02, -1.4184e-01,\n",
       "        3.2295e-01, -5.7773e-01,  7.4962e-02,  3.0049e-01, -3.8984e-01,\n",
       "       -1.6904e-01, -7.7433e-03, -3.7745e-01, -9.7340e-02,  1.0507e+00,\n",
       "        1.3544e-01, -2.4993e-01,  4.1945e-01, -6.8382e-02,  9.7902e-02,\n",
       "        1.3063e-02, -3.8661e-02,  4.6687e-01, -4.3831e-01,  2.2326e-01,\n",
       "       -2.9095e-01,  3.6451e-01,  1.6130e-01, -1.3360e-01, -5.6512e-01,\n",
       "        4.9439e-01,  3.3749e-01,  1.2628e+00, -2.7890e-01,  1.6575e-01,\n",
       "        3.7684e-01, -8.8227e-01,  4.7680e-01,  2.6417e-01,  7.5181e-02,\n",
       "        8.0358e-02, -1.7051e-01, -2.1160e-01,  8.5466e-02, -1.8022e-01,\n",
       "       -4.8637e-02, -2.1456e-01,  1.1841e-01, -2.4945e-01, -1.3479e-01,\n",
       "       -8.1357e-01,  4.2884e-01, -3.4178e-01,  6.7467e-01, -2.6493e-01,\n",
       "        2.2117e-01, -4.6855e-01, -5.0721e-01,  7.6357e-02, -2.0980e-01,\n",
       "       -9.1377e-02,  1.9038e-01, -2.7097e-01,  3.6492e-01,  7.5431e-01,\n",
       "        9.0323e-02,  7.2673e-02,  1.3949e-01,  1.3688e-01, -2.5130e-01,\n",
       "       -5.7571e-01, -2.0784e-01,  9.0338e-03,  4.7859e-01,  3.4353e-01,\n",
       "       -5.2533e-01, -1.6771e-01,  1.9326e-01, -1.5929e-02, -8.6950e-02,\n",
       "       -3.1563e-01,  3.0037e-01, -4.4983e-01,  8.5935e-02, -1.8280e-01,\n",
       "       -1.9487e+00,  6.5309e-02,  5.4442e-01,  4.0813e-01,  4.8139e-02,\n",
       "       -5.4155e-01, -6.2696e-01,  1.7240e-01,  5.3930e-01,  2.3446e-01,\n",
       "        7.6613e-01, -7.7938e-02,  4.6500e-01,  1.8340e-01, -3.5696e-01,\n",
       "       -7.9374e-01,  1.3225e-01,  4.1134e-02, -6.1812e-02,  4.7853e-01,\n",
       "       -1.8188e-01,  1.7540e-01,  1.8856e-01,  6.4682e-01,  1.4403e-01,\n",
       "       -3.4188e-01,  7.9871e-02, -2.9728e-01, -1.8144e-01,  1.7169e-01,\n",
       "        2.4753e-01,  3.7894e-01,  2.7567e-01,  1.8184e-01, -1.7184e-01,\n",
       "       -4.6262e-01, -7.2283e-02, -6.2171e-01,  3.0728e-01, -4.4099e-01,\n",
       "       -3.7500e-01, -5.0909e-01,  6.8876e-01,  5.8186e-01, -3.1279e-01,\n",
       "       -4.1394e-01,  3.7889e-01, -2.0176e-01, -1.2041e-01, -7.5537e-01,\n",
       "       -7.7772e-01, -3.8058e-01, -4.5461e-01, -4.5139e-01,  3.6568e-01,\n",
       "       -1.5116e-02, -1.5728e-01,  4.0281e-01,  5.1079e-01, -2.6196e-01,\n",
       "       -2.3361e-01,  7.8494e-01, -4.8434e-01,  2.5282e-01,  1.7332e-01,\n",
       "        2.3419e-01,  1.9502e-03,  7.9116e-01, -4.3981e-02, -4.3054e-01,\n",
       "       -7.3150e-01, -3.7186e-01,  1.4033e-01, -1.8004e-01,  2.7307e-01,\n",
       "        3.4866e-01,  2.0977e-01, -2.9507e-01, -2.0832e-01,  5.7565e-01,\n",
       "       -2.4481e-01,  3.5340e-01,  1.2756e-01,  2.4570e-01,  4.1672e-01,\n",
       "        8.4796e-02,  5.5787e-01, -2.2060e-01, -6.0315e-01,  5.2275e-01,\n",
       "       -1.3004e-01, -2.0314e-01, -1.8047e-01, -4.2742e-01, -6.5422e-01,\n",
       "        2.4375e-01, -7.4786e-02, -1.9983e-01,  4.1320e-02, -2.7505e-02,\n",
       "        2.8318e-02,  4.9016e-01, -2.5630e-01, -1.2611e-01,  7.9439e-02,\n",
       "        8.2613e-01, -3.0235e-01, -2.3655e-01, -6.7114e-01, -6.2676e-01,\n",
       "        1.0902e+00, -1.7508e-01, -2.6093e-02, -8.6680e-03,  1.2793e-01,\n",
       "        3.4145e-01,  3.8635e-01, -8.4913e-01,  9.7094e-02,  7.9848e-01,\n",
       "        4.8353e-01,  2.8051e-01,  1.9148e-01,  4.0727e-01,  4.2626e-01,\n",
       "       -2.5665e-01, -2.6979e-01,  5.7425e-01, -3.8528e-01, -3.8415e-01,\n",
       "       -5.1509e-01, -8.7809e-03,  6.6953e-01, -4.6039e-01,  3.7614e-01,\n",
       "       -9.1192e-02, -4.6164e-01,  8.7189e-03,  1.0990e-01,  5.8289e-01,\n",
       "       -1.2086e-01,  4.2320e-01,  6.1587e-01, -2.4570e-01,  6.5885e-03,\n",
       "        2.8973e-01,  8.1987e-01,  4.2783e-01,  1.6582e-01,  7.6088e-01,\n",
       "        2.7870e-01,  2.1780e-01, -3.2046e-01,  1.5437e-01, -7.7536e-01,\n",
       "       -6.1844e-01,  2.2405e-01, -4.8720e-01,  6.7257e-01, -3.2900e-02],\n",
       "      dtype=float32)"
      ]
     },
     "execution_count": 118,
     "metadata": {},
     "output_type": "execute_result"
    }
   ],
   "source": [
    "# the vector of a word in a doc:\n",
    "list(descriptions)[0][4].vector"
   ]
  },
  {
   "cell_type": "code",
   "execution_count": 119,
   "metadata": {},
   "outputs": [
    {
     "data": {
      "text/plain": [
       "array([-1.28362730e-01,  2.82365769e-01, -4.49462198e-02, -1.27498358e-01,\n",
       "        1.22002006e-01,  1.47130564e-01, -1.50934458e-02, -1.09166056e-01,\n",
       "       -1.10732287e-01,  1.67319226e+00, -1.56334013e-01,  1.80393815e-01,\n",
       "       -1.33543879e-01, -2.66527552e-02, -1.14607863e-01, -2.78478980e-01,\n",
       "       -1.24037325e-01,  1.17868316e+00, -7.19795898e-02, -4.13767211e-02,\n",
       "       -3.36467177e-02,  3.48486146e-03, -2.11610962e-02, -2.91093774e-02,\n",
       "        3.47571298e-02, -7.23614395e-02,  1.01035580e-01,  8.29180051e-03,\n",
       "        1.51149690e-01, -3.24545950e-01,  8.69362522e-03,  1.80217456e-02,\n",
       "       -7.20151421e-03, -9.33022238e-06,  7.96838179e-02,  1.25217214e-02,\n",
       "        7.34353736e-02, -4.64807451e-02, -1.05573855e-01,  1.03139743e-01,\n",
       "       -1.08939558e-01,  3.47541720e-02,  1.18087411e-01, -1.32807776e-01,\n",
       "        6.54570311e-02,  2.25159004e-01, -1.84240416e-01,  2.59242281e-02,\n",
       "        7.39087835e-02, -8.07781331e-03, -5.62592223e-02,  7.26155788e-02,\n",
       "       -8.64307135e-02,  7.07811490e-02,  1.77318484e-01,  3.87920551e-02,\n",
       "       -1.35080237e-02, -7.18555227e-02, -3.35629322e-02, -5.70788383e-02,\n",
       "        9.15060192e-02, -4.30485457e-02,  3.27224880e-02,  1.84797227e-01,\n",
       "       -9.24582034e-02, -2.06145391e-01,  1.86645575e-02, -7.36891925e-02,\n",
       "       -1.08515300e-01,  2.95611888e-01, -7.22284764e-02,  2.30833441e-01,\n",
       "        1.25553012e-01, -4.50794660e-02,  5.24271615e-02,  1.05522044e-01,\n",
       "        2.27535982e-02, -1.18014524e-02, -8.45670253e-02,  1.44130856e-01,\n",
       "       -1.13491267e-01, -4.80808392e-02, -6.02653436e-02, -5.39108478e-02,\n",
       "       -3.29151237e-03, -3.84505808e-01,  2.24447101e-01,  2.70157754e-01,\n",
       "        1.42603621e-01,  8.00725296e-02,  1.02317348e-01,  1.91642195e-02,\n",
       "        2.75413096e-01,  1.71226040e-01,  4.96835634e-02,  5.78240268e-02,\n",
       "       -1.54802397e-01, -5.07885665e-02, -2.08466202e-01, -5.96408173e-02,\n",
       "        1.29333157e-02,  4.26318087e-02, -2.05394328e-01, -7.63116255e-02,\n",
       "       -3.31751034e-02, -3.97109121e-01,  1.78027928e-01, -3.71822193e-02,\n",
       "        2.39957705e-01, -1.46864140e-02, -4.74546663e-02, -1.88616782e-01,\n",
       "       -1.25078455e-01, -1.03236660e-01, -1.40688494e-01, -4.49941419e-02,\n",
       "        4.88289073e-02, -6.96327016e-02,  1.20552287e-01,  1.54343126e-02,\n",
       "        7.34297186e-02,  6.74196929e-02, -1.17967851e-01,  1.92160439e-02,\n",
       "       -6.33013994e-02,  4.17157151e-02,  9.01927873e-02, -7.01025203e-02,\n",
       "        9.68699455e-02,  2.52359686e-03, -1.44448159e-02, -2.28635013e-01,\n",
       "        4.11729254e-02,  3.76189239e-02,  2.68905889e-02,  9.59671661e-02,\n",
       "       -2.63339840e-02, -9.27709416e-02, -3.26990299e-02, -2.84125656e-02,\n",
       "       -1.25844455e+00,  3.49407285e-01,  3.14858526e-01,  6.66240528e-02,\n",
       "       -1.19517997e-01, -9.56170410e-02, -7.76022375e-02,  6.21829070e-02,\n",
       "        1.32288665e-01, -4.97321859e-02,  1.88571826e-01, -1.91095136e-02,\n",
       "        3.59993815e-01,  1.75716102e-01, -1.62179008e-01, -7.84942880e-04,\n",
       "        9.78377834e-03, -1.21983819e-01,  3.53389755e-02,  3.95989679e-02,\n",
       "       -5.90166971e-02,  1.54783428e-01,  1.06973663e-01,  3.91054600e-02,\n",
       "       -1.08061478e-01, -1.91509679e-01,  8.54928512e-03, -1.65163353e-01,\n",
       "        9.81507674e-02,  3.95982862e-02,  1.69341639e-01, -3.22264358e-02,\n",
       "       -1.68087538e-02, -4.11365591e-02, -1.32355034e-01,  9.10131633e-03,\n",
       "       -8.38786811e-02, -2.84064382e-01,  2.11717263e-02, -2.76002586e-01,\n",
       "        5.41262664e-02, -2.54673421e-01,  8.35161209e-02, -8.27779323e-02,\n",
       "       -3.21031688e-03, -1.53758615e-01,  2.41080318e-02,  2.13358644e-02,\n",
       "       -5.77640124e-02, -1.04475550e-01, -1.07083172e-01,  2.78684348e-02,\n",
       "       -8.15506279e-03, -6.40150607e-02, -1.76649969e-02, -2.76757944e-02,\n",
       "       -4.56884317e-02, -2.59320922e-02, -1.01833399e-02,  1.00567274e-01,\n",
       "       -1.78765684e-01,  4.76594567e-02, -1.16896190e-01, -2.09379010e-02,\n",
       "        1.00355670e-01,  3.65295634e-02,  1.05634946e-02,  1.51393175e-01,\n",
       "        1.19064465e-01, -4.06384617e-02, -2.67254263e-01, -7.92682469e-02,\n",
       "        8.95132311e-03, -1.59283578e-01,  6.54015988e-02,  2.30074853e-01,\n",
       "        2.13547684e-02, -5.38691692e-02, -2.95527820e-02,  1.25636846e-01,\n",
       "       -1.19317591e-01,  1.25517026e-01, -1.72574213e-03,  1.85398921e-01,\n",
       "        2.05129623e-01, -2.68152673e-02,  5.19296676e-02,  1.05401911e-01,\n",
       "        2.50336546e-02,  9.51753482e-02, -1.50576904e-01, -1.08636888e-02,\n",
       "       -6.11561202e-02,  4.76222485e-02, -1.66620702e-01, -6.93494901e-02,\n",
       "       -1.45469010e-01, -1.77169785e-01,  4.34046276e-02,  4.11408432e-02,\n",
       "       -5.95388524e-02,  4.31954078e-02, -2.03180030e-01, -1.59605622e-01,\n",
       "        1.82124712e-02,  1.71810403e-01, -1.69109404e-01, -9.76070613e-02,\n",
       "       -9.85764414e-02,  1.68998912e-01,  4.86743711e-02, -4.50845156e-03,\n",
       "       -1.68203861e-01,  2.93280650e-02, -2.69156322e-03,  2.50638962e-01,\n",
       "        1.14448540e-01, -1.73205003e-01, -3.83437797e-02,  1.44863337e-01,\n",
       "        8.68953988e-02,  8.16323832e-02,  2.91442554e-02,  1.86719403e-01,\n",
       "        3.00831310e-02,  3.16024385e-02, -7.32664913e-02,  1.69707686e-02,\n",
       "        3.92777249e-02,  3.61546576e-02, -1.54143825e-01, -2.83369329e-02,\n",
       "        2.35301582e-03, -1.57998428e-01, -2.41126046e-01,  3.80822159e-02,\n",
       "       -3.08545567e-02,  9.12413076e-02,  1.06689371e-02,  4.08723593e-01,\n",
       "        2.67644972e-01, -4.99941893e-02,  1.63561374e-01, -2.21785352e-01,\n",
       "       -2.39770878e-02,  9.32353064e-02,  2.98604786e-01, -7.30606019e-02,\n",
       "        1.15752235e-01, -8.50374158e-03, -1.02585532e-01,  8.60942900e-02,\n",
       "       -8.80767405e-02, -7.21364617e-02, -2.69500554e-01,  1.18132867e-02,\n",
       "        8.99144709e-02, -3.20224434e-01,  3.10517438e-02,  4.04419824e-02],\n",
       "      dtype=float32)"
      ]
     },
     "execution_count": 119,
     "metadata": {},
     "output_type": "execute_result"
    }
   ],
   "source": [
    "# the vector of a doc is the average of all token vectors in the doc:\n",
    "list(descriptions)[0].vector"
   ]
  },
  {
   "cell_type": "code",
   "execution_count": 125,
   "metadata": {},
   "outputs": [],
   "source": [
    "# save the Doc for later:\n",
    "import pickle\n",
    "pickle.dump(descriptions,  open( \"../data/test_save_subset.p\", \"wb\" ))\n",
    "# The size is huge !"
   ]
  },
  {
   "cell_type": "code",
   "execution_count": 126,
   "metadata": {},
   "outputs": [
    {
     "name": "stdout",
     "output_type": "stream",
     "text": [
      "300\n"
     ]
    },
    {
     "data": {
      "text/plain": [
       "A delicious, balanced Pinot Noir. Shows dry, pure flavors of raspberries, cherries, cola and sandalwood, with a delicious, drink-me-now appeal."
      ]
     },
     "execution_count": 126,
     "metadata": {},
     "output_type": "execute_result"
    }
   ],
   "source": [
    "# try to load the saved Doc:\n",
    "test = pickle.load( open( \"../data/test_save_subset.p\", \"rb\" ) )\n",
    "print(len(list(test)[0][4].vector))\n",
    "list(test)[0]\n"
   ]
  },
  {
   "cell_type": "markdown",
   "metadata": {},
   "source": [
    "It works! The Doc created, e.g. after tokenization can be saved as pickles, but their size is huge!"
   ]
  },
  {
   "cell_type": "markdown",
   "metadata": {},
   "source": [
    "## Tokenization\n",
    "We will use the large model, because we can, and because the vocabulary is larger. However, we only need to tokenize and will not need the PoS tagger, dependecy parser and Named Entities Recognizer.  \n",
    "\n",
    "We will clean the token after, removing punctuation and stopwords, setting all of them to lower case."
   ]
  },
  {
   "cell_type": "code",
   "execution_count": 271,
   "metadata": {},
   "outputs": [
    {
     "name": "stdout",
     "output_type": "stream",
     "text": [
      "model loaded in: 9.464062929153442  s.\n"
     ]
    }
   ],
   "source": [
    "# loading the nlp model. \n",
    "time0 = time.time()\n",
    "nlp = spacy.load('en_core_web_lg', disable=[\"tagger\", \"parser\", \"ner\"])\n",
    "print('model loaded in:', time.time() - time0, ' s.')"
   ]
  },
  {
   "cell_type": "code",
   "execution_count": 287,
   "metadata": {},
   "outputs": [],
   "source": [
    "# Creating our tokenizer function\n",
    "def spacy_tokenizer(description):\n",
    "    \n",
    "    # Tokenize:\n",
    "    mytokens = nlp(description)\n",
    "\n",
    "    # Removing stopwords, punctuation and convert to lower_case\n",
    "    mytokens = [token.lower_ for token in mytokens if not token.is_punct and not token.is_stop]\n",
    "\n",
    "    # Return preprocessed list of tokens\n",
    "    return mytokens\n"
   ]
  },
  {
   "cell_type": "code",
   "execution_count": 288,
   "metadata": {},
   "outputs": [
    {
     "name": "stdout",
     "output_type": "stream",
     "text": [
      "Finished! Tokenization and cleaning took  0.22167301177978516  s. to run.\n"
     ]
    }
   ],
   "source": [
    "time0 = time.time()\n",
    "\n",
    "descriptions = subset['description'].apply(spacy_tokenizer) \n",
    "\n",
    "# if we want, we can add the parsed descriptions to the dataframe:\n",
    "subset.loc[:,'description_tokenized'] = descriptions\n",
    "\n",
    "print('Finished! Tokenization and cleaning took ', time.time() - time0, ' s. to run.')"
   ]
  },
  {
   "cell_type": "code",
   "execution_count": 255,
   "metadata": {
    "scrolled": true
   },
   "outputs": [
    {
     "name": "stdout",
     "output_type": "stream",
     "text": [
      "Finished! Tokenization and cleaning took  0.22227191925048828  s. to run.\n",
      "['delicious', 'balanced', 'pinot', 'noir', 'shows', 'dry', 'pure', 'flavors', 'raspberries', 'cherries', 'cola', 'sandalwood', 'delicious', 'drink', 'appeal']\n"
     ]
    }
   ],
   "source": [
    "# # tokenization and cleaning of descriptions:\n",
    "\n",
    "# def clean_tokenized_text(doc):\n",
    "#     # remove stopwords and punctuation,\n",
    "#     # return the lower case in the form of a list of words (strings):\n",
    "#     return([token.lower_ for token in doc if not token.is_punct and not token.is_stop]) # [] to not return the generator\n",
    "\n",
    "# def tokenize_and_clean(texts):\n",
    "#     # texts is a pd.Series (the description column of the wine dataset)\n",
    "#     time0 = time.time()\n",
    "    \n",
    "#     # using nlp instead of nlp.pipe:\n",
    "#     descriptions = texts.apply(nlp) # tokenize\n",
    "#     print('Tokenization took ', time.time() - time0, ' s. to run.')\n",
    "#     tokenized_serie = descriptions.apply(clean_tokenized_text) # clean text\n",
    "    \n",
    "# #     # using nlp.pipe, should be faster:\n",
    "# #     tokenized_serie = []\n",
    "# #     for doc in nlp.pipe(texts): \n",
    "# #         # clean text:\n",
    "# #         tokenized_serie.append(clean_tokenized_text(doc))\n",
    "# #     # returns a list of words per doc\n",
    "    \n",
    "#     print('Finished! Tokenization and cleaning took ', time.time() - time0, ' s. to run.')\n",
    "#     return(tokenized_serie)\n",
    "    \n",
    "# descriptions = tokenize_and_clean(subset['description'])\n",
    "# print(list(descriptions)[0])"
   ]
  },
  {
   "cell_type": "markdown",
   "metadata": {},
   "source": [
    "Our descriptions have now the form of a list of list of words, i.e. a list of words per doc. "
   ]
  },
  {
   "cell_type": "markdown",
   "metadata": {},
   "source": [
    "Ok, so now let's try some vectorization techniques!"
   ]
  },
  {
   "cell_type": "markdown",
   "metadata": {},
   "source": [
    "## Bag of Words"
   ]
  },
  {
   "cell_type": "code",
   "execution_count": 327,
   "metadata": {},
   "outputs": [
    {
     "name": "stdout",
     "output_type": "stream",
     "text": [
      "needed time:  0.0009322166442871094\n",
      "number of words in corpus:  24092\n"
     ]
    }
   ],
   "source": [
    "# creates corpus based on the tokenized docs:\n",
    "time0 = time.time()\n",
    "\n",
    "corpus = list(itertools.chain(*descriptions)) # should be faster than solution below\n",
    "# corpus = [y for x in descriptions for y in x]\n",
    "\n",
    "# the corpus is here a list of all the -clean- words found in the descriptions.\n",
    "\n",
    "print('needed time: ', time.time() - time0)\n",
    "print('number of words in corpus: ', len(corpus))"
   ]
  },
  {
   "cell_type": "code",
   "execution_count": 328,
   "metadata": {},
   "outputs": [],
   "source": [
    "# Utility function to create a list of the n most common words in corpus.\n",
    "def bag_of_words(text, n):\n",
    "    # Return the n most common words.\n",
    "    return [item[0] for item in Counter(text).most_common(n)]\n",
    "\n",
    "common_words = bag_of_words(corpus, 3000) # let's start with 3000 most common words"
   ]
  },
  {
   "cell_type": "markdown",
   "metadata": {},
   "source": [
    "**THIS IS SUPER SLOW AND WILL NOT WORK ON FULL DATA SET ! + it doesn't even work now...**"
   ]
  },
  {
   "cell_type": "code",
   "execution_count": 354,
   "metadata": {
    "scrolled": false
   },
   "outputs": [
    {
     "name": "stdout",
     "output_type": "stream",
     "text": [
      "Processing row 0\n",
      "Processing row 50\n",
      "Processing row 100\n",
      "Processing row 150\n",
      "Processing row 200\n",
      "Processing row 250\n",
      "Processing row 300\n",
      "Processing row 350\n",
      "Processing row 400\n",
      "Processing row 450\n",
      "Processing row 500\n"
     ]
    },
    {
     "ename": "KeyError",
     "evalue": "'screaming'",
     "output_type": "error",
     "traceback": [
      "\u001b[0;31m---------------------------------------------------------------------------\u001b[0m",
      "\u001b[0;31mKeyError\u001b[0m                                  Traceback (most recent call last)",
      "\u001b[0;32m/usr/local/lib/python3.7/site-packages/pandas/core/indexes/base.py\u001b[0m in \u001b[0;36mget_loc\u001b[0;34m(self, key, method, tolerance)\u001b[0m\n\u001b[1;32m   2896\u001b[0m             \u001b[0;32mtry\u001b[0m\u001b[0;34m:\u001b[0m\u001b[0;34m\u001b[0m\u001b[0;34m\u001b[0m\u001b[0m\n\u001b[0;32m-> 2897\u001b[0;31m                 \u001b[0;32mreturn\u001b[0m \u001b[0mself\u001b[0m\u001b[0;34m.\u001b[0m\u001b[0m_engine\u001b[0m\u001b[0;34m.\u001b[0m\u001b[0mget_loc\u001b[0m\u001b[0;34m(\u001b[0m\u001b[0mkey\u001b[0m\u001b[0;34m)\u001b[0m\u001b[0;34m\u001b[0m\u001b[0;34m\u001b[0m\u001b[0m\n\u001b[0m\u001b[1;32m   2898\u001b[0m             \u001b[0;32mexcept\u001b[0m \u001b[0mKeyError\u001b[0m\u001b[0;34m:\u001b[0m\u001b[0;34m\u001b[0m\u001b[0;34m\u001b[0m\u001b[0m\n",
      "\u001b[0;32mpandas/_libs/index.pyx\u001b[0m in \u001b[0;36mpandas._libs.index.IndexEngine.get_loc\u001b[0;34m()\u001b[0m\n",
      "\u001b[0;32mpandas/_libs/index.pyx\u001b[0m in \u001b[0;36mpandas._libs.index.IndexEngine.get_loc\u001b[0;34m()\u001b[0m\n",
      "\u001b[0;32mpandas/_libs/hashtable_class_helper.pxi\u001b[0m in \u001b[0;36mpandas._libs.hashtable.PyObjectHashTable.get_item\u001b[0;34m()\u001b[0m\n",
      "\u001b[0;32mpandas/_libs/hashtable_class_helper.pxi\u001b[0m in \u001b[0;36mpandas._libs.hashtable.PyObjectHashTable.get_item\u001b[0;34m()\u001b[0m\n",
      "\u001b[0;31mKeyError\u001b[0m: 'screaming'",
      "\nDuring handling of the above exception, another exception occurred:\n",
      "\u001b[0;31mKeyError\u001b[0m                                  Traceback (most recent call last)",
      "\u001b[0;32m<ipython-input-354-d2c2b0fa443f>\u001b[0m in \u001b[0;36m<module>\u001b[0;34m\u001b[0m\n\u001b[1;32m     23\u001b[0m     \u001b[0;32mreturn\u001b[0m \u001b[0mdf\u001b[0m\u001b[0;34m\u001b[0m\u001b[0;34m\u001b[0m\u001b[0m\n\u001b[1;32m     24\u001b[0m \u001b[0;34m\u001b[0m\u001b[0m\n\u001b[0;32m---> 25\u001b[0;31m \u001b[0mword_counts\u001b[0m \u001b[0;34m=\u001b[0m \u001b[0mbow_features\u001b[0m\u001b[0;34m(\u001b[0m\u001b[0mdescriptions\u001b[0m\u001b[0;34m,\u001b[0m \u001b[0mcommon_words\u001b[0m\u001b[0;34m)\u001b[0m\u001b[0;34m\u001b[0m\u001b[0;34m\u001b[0m\u001b[0m\n\u001b[0m",
      "\u001b[0;32m<ipython-input-354-d2c2b0fa443f>\u001b[0m in \u001b[0;36mbow_features\u001b[0;34m(descriptions, common_words)\u001b[0m\n\u001b[1;32m     15\u001b[0m         \u001b[0;31m# Populate the row with word counts.\u001b[0m\u001b[0;34m\u001b[0m\u001b[0;34m\u001b[0m\u001b[0;34m\u001b[0m\u001b[0m\n\u001b[1;32m     16\u001b[0m         \u001b[0;32mfor\u001b[0m \u001b[0mword\u001b[0m \u001b[0;32min\u001b[0m \u001b[0mwords\u001b[0m\u001b[0;34m:\u001b[0m\u001b[0;34m\u001b[0m\u001b[0;34m\u001b[0m\u001b[0m\n\u001b[0;32m---> 17\u001b[0;31m             \u001b[0mdf\u001b[0m\u001b[0;34m.\u001b[0m\u001b[0mloc\u001b[0m\u001b[0;34m[\u001b[0m\u001b[0mi\u001b[0m\u001b[0;34m,\u001b[0m \u001b[0mword\u001b[0m\u001b[0;34m]\u001b[0m \u001b[0;34m+=\u001b[0m \u001b[0;36m1\u001b[0m\u001b[0;34m\u001b[0m\u001b[0;34m\u001b[0m\u001b[0m\n\u001b[0m\u001b[1;32m     18\u001b[0m \u001b[0;34m\u001b[0m\u001b[0m\n\u001b[1;32m     19\u001b[0m         \u001b[0;31m# This counter is just to make sure the kernel didn't hang.\u001b[0m\u001b[0;34m\u001b[0m\u001b[0;34m\u001b[0m\u001b[0;34m\u001b[0m\u001b[0m\n",
      "\u001b[0;32m/usr/local/lib/python3.7/site-packages/pandas/core/indexing.py\u001b[0m in \u001b[0;36m__getitem__\u001b[0;34m(self, key)\u001b[0m\n\u001b[1;32m   1416\u001b[0m                 \u001b[0;32mexcept\u001b[0m \u001b[0;34m(\u001b[0m\u001b[0mKeyError\u001b[0m\u001b[0;34m,\u001b[0m \u001b[0mIndexError\u001b[0m\u001b[0;34m,\u001b[0m \u001b[0mAttributeError\u001b[0m\u001b[0;34m)\u001b[0m\u001b[0;34m:\u001b[0m\u001b[0;34m\u001b[0m\u001b[0;34m\u001b[0m\u001b[0m\n\u001b[1;32m   1417\u001b[0m                     \u001b[0;32mpass\u001b[0m\u001b[0;34m\u001b[0m\u001b[0;34m\u001b[0m\u001b[0m\n\u001b[0;32m-> 1418\u001b[0;31m             \u001b[0;32mreturn\u001b[0m \u001b[0mself\u001b[0m\u001b[0;34m.\u001b[0m\u001b[0m_getitem_tuple\u001b[0m\u001b[0;34m(\u001b[0m\u001b[0mkey\u001b[0m\u001b[0;34m)\u001b[0m\u001b[0;34m\u001b[0m\u001b[0;34m\u001b[0m\u001b[0m\n\u001b[0m\u001b[1;32m   1419\u001b[0m         \u001b[0;32melse\u001b[0m\u001b[0;34m:\u001b[0m\u001b[0;34m\u001b[0m\u001b[0;34m\u001b[0m\u001b[0m\n\u001b[1;32m   1420\u001b[0m             \u001b[0;31m# we by definition only have the 0th axis\u001b[0m\u001b[0;34m\u001b[0m\u001b[0;34m\u001b[0m\u001b[0;34m\u001b[0m\u001b[0m\n",
      "\u001b[0;32m/usr/local/lib/python3.7/site-packages/pandas/core/indexing.py\u001b[0m in \u001b[0;36m_getitem_tuple\u001b[0;34m(self, tup)\u001b[0m\n\u001b[1;32m    803\u001b[0m     \u001b[0;32mdef\u001b[0m \u001b[0m_getitem_tuple\u001b[0m\u001b[0;34m(\u001b[0m\u001b[0mself\u001b[0m\u001b[0;34m,\u001b[0m \u001b[0mtup\u001b[0m\u001b[0;34m)\u001b[0m\u001b[0;34m:\u001b[0m\u001b[0;34m\u001b[0m\u001b[0;34m\u001b[0m\u001b[0m\n\u001b[1;32m    804\u001b[0m         \u001b[0;32mtry\u001b[0m\u001b[0;34m:\u001b[0m\u001b[0;34m\u001b[0m\u001b[0;34m\u001b[0m\u001b[0m\n\u001b[0;32m--> 805\u001b[0;31m             \u001b[0;32mreturn\u001b[0m \u001b[0mself\u001b[0m\u001b[0;34m.\u001b[0m\u001b[0m_getitem_lowerdim\u001b[0m\u001b[0;34m(\u001b[0m\u001b[0mtup\u001b[0m\u001b[0;34m)\u001b[0m\u001b[0;34m\u001b[0m\u001b[0;34m\u001b[0m\u001b[0m\n\u001b[0m\u001b[1;32m    806\u001b[0m         \u001b[0;32mexcept\u001b[0m \u001b[0mIndexingError\u001b[0m\u001b[0;34m:\u001b[0m\u001b[0;34m\u001b[0m\u001b[0;34m\u001b[0m\u001b[0m\n\u001b[1;32m    807\u001b[0m             \u001b[0;32mpass\u001b[0m\u001b[0;34m\u001b[0m\u001b[0;34m\u001b[0m\u001b[0m\n",
      "\u001b[0;32m/usr/local/lib/python3.7/site-packages/pandas/core/indexing.py\u001b[0m in \u001b[0;36m_getitem_lowerdim\u001b[0;34m(self, tup)\u001b[0m\n\u001b[1;32m    959\u001b[0m                     \u001b[0;32mreturn\u001b[0m \u001b[0msection\u001b[0m\u001b[0;34m\u001b[0m\u001b[0;34m\u001b[0m\u001b[0m\n\u001b[1;32m    960\u001b[0m                 \u001b[0;31m# This is an elided recursive call to iloc/loc/etc'\u001b[0m\u001b[0;34m\u001b[0m\u001b[0;34m\u001b[0m\u001b[0;34m\u001b[0m\u001b[0m\n\u001b[0;32m--> 961\u001b[0;31m                 \u001b[0;32mreturn\u001b[0m \u001b[0mgetattr\u001b[0m\u001b[0;34m(\u001b[0m\u001b[0msection\u001b[0m\u001b[0;34m,\u001b[0m \u001b[0mself\u001b[0m\u001b[0;34m.\u001b[0m\u001b[0mname\u001b[0m\u001b[0;34m)\u001b[0m\u001b[0;34m[\u001b[0m\u001b[0mnew_key\u001b[0m\u001b[0;34m]\u001b[0m\u001b[0;34m\u001b[0m\u001b[0;34m\u001b[0m\u001b[0m\n\u001b[0m\u001b[1;32m    962\u001b[0m \u001b[0;34m\u001b[0m\u001b[0m\n\u001b[1;32m    963\u001b[0m         \u001b[0;32mraise\u001b[0m \u001b[0mIndexingError\u001b[0m\u001b[0;34m(\u001b[0m\u001b[0;34m\"not applicable\"\u001b[0m\u001b[0;34m)\u001b[0m\u001b[0;34m\u001b[0m\u001b[0;34m\u001b[0m\u001b[0m\n",
      "\u001b[0;32m/usr/local/lib/python3.7/site-packages/pandas/core/indexing.py\u001b[0m in \u001b[0;36m__getitem__\u001b[0;34m(self, key)\u001b[0m\n\u001b[1;32m   1422\u001b[0m \u001b[0;34m\u001b[0m\u001b[0m\n\u001b[1;32m   1423\u001b[0m             \u001b[0mmaybe_callable\u001b[0m \u001b[0;34m=\u001b[0m \u001b[0mcom\u001b[0m\u001b[0;34m.\u001b[0m\u001b[0mapply_if_callable\u001b[0m\u001b[0;34m(\u001b[0m\u001b[0mkey\u001b[0m\u001b[0;34m,\u001b[0m \u001b[0mself\u001b[0m\u001b[0;34m.\u001b[0m\u001b[0mobj\u001b[0m\u001b[0;34m)\u001b[0m\u001b[0;34m\u001b[0m\u001b[0;34m\u001b[0m\u001b[0m\n\u001b[0;32m-> 1424\u001b[0;31m             \u001b[0;32mreturn\u001b[0m \u001b[0mself\u001b[0m\u001b[0;34m.\u001b[0m\u001b[0m_getitem_axis\u001b[0m\u001b[0;34m(\u001b[0m\u001b[0mmaybe_callable\u001b[0m\u001b[0;34m,\u001b[0m \u001b[0maxis\u001b[0m\u001b[0;34m=\u001b[0m\u001b[0maxis\u001b[0m\u001b[0;34m)\u001b[0m\u001b[0;34m\u001b[0m\u001b[0;34m\u001b[0m\u001b[0m\n\u001b[0m\u001b[1;32m   1425\u001b[0m \u001b[0;34m\u001b[0m\u001b[0m\n\u001b[1;32m   1426\u001b[0m     \u001b[0;32mdef\u001b[0m \u001b[0m_is_scalar_access\u001b[0m\u001b[0;34m(\u001b[0m\u001b[0mself\u001b[0m\u001b[0;34m,\u001b[0m \u001b[0mkey\u001b[0m\u001b[0;34m:\u001b[0m \u001b[0mTuple\u001b[0m\u001b[0;34m)\u001b[0m\u001b[0;34m:\u001b[0m\u001b[0;34m\u001b[0m\u001b[0;34m\u001b[0m\u001b[0m\n",
      "\u001b[0;32m/usr/local/lib/python3.7/site-packages/pandas/core/indexing.py\u001b[0m in \u001b[0;36m_getitem_axis\u001b[0;34m(self, key, axis)\u001b[0m\n\u001b[1;32m   1848\u001b[0m         \u001b[0;31m# fall thru to straight lookup\u001b[0m\u001b[0;34m\u001b[0m\u001b[0;34m\u001b[0m\u001b[0;34m\u001b[0m\u001b[0m\n\u001b[1;32m   1849\u001b[0m         \u001b[0mself\u001b[0m\u001b[0;34m.\u001b[0m\u001b[0m_validate_key\u001b[0m\u001b[0;34m(\u001b[0m\u001b[0mkey\u001b[0m\u001b[0;34m,\u001b[0m \u001b[0maxis\u001b[0m\u001b[0;34m)\u001b[0m\u001b[0;34m\u001b[0m\u001b[0;34m\u001b[0m\u001b[0m\n\u001b[0;32m-> 1850\u001b[0;31m         \u001b[0;32mreturn\u001b[0m \u001b[0mself\u001b[0m\u001b[0;34m.\u001b[0m\u001b[0m_get_label\u001b[0m\u001b[0;34m(\u001b[0m\u001b[0mkey\u001b[0m\u001b[0;34m,\u001b[0m \u001b[0maxis\u001b[0m\u001b[0;34m=\u001b[0m\u001b[0maxis\u001b[0m\u001b[0;34m)\u001b[0m\u001b[0;34m\u001b[0m\u001b[0;34m\u001b[0m\u001b[0m\n\u001b[0m\u001b[1;32m   1851\u001b[0m \u001b[0;34m\u001b[0m\u001b[0m\n\u001b[1;32m   1852\u001b[0m \u001b[0;34m\u001b[0m\u001b[0m\n",
      "\u001b[0;32m/usr/local/lib/python3.7/site-packages/pandas/core/indexing.py\u001b[0m in \u001b[0;36m_get_label\u001b[0;34m(self, label, axis)\u001b[0m\n\u001b[1;32m    154\u001b[0m             \u001b[0;31m# but will fail when the index is not present\u001b[0m\u001b[0;34m\u001b[0m\u001b[0;34m\u001b[0m\u001b[0;34m\u001b[0m\u001b[0m\n\u001b[1;32m    155\u001b[0m             \u001b[0;31m# see GH5667\u001b[0m\u001b[0;34m\u001b[0m\u001b[0;34m\u001b[0m\u001b[0;34m\u001b[0m\u001b[0m\n\u001b[0;32m--> 156\u001b[0;31m             \u001b[0;32mreturn\u001b[0m \u001b[0mself\u001b[0m\u001b[0;34m.\u001b[0m\u001b[0mobj\u001b[0m\u001b[0;34m.\u001b[0m\u001b[0m_xs\u001b[0m\u001b[0;34m(\u001b[0m\u001b[0mlabel\u001b[0m\u001b[0;34m,\u001b[0m \u001b[0maxis\u001b[0m\u001b[0;34m=\u001b[0m\u001b[0maxis\u001b[0m\u001b[0;34m)\u001b[0m\u001b[0;34m\u001b[0m\u001b[0;34m\u001b[0m\u001b[0m\n\u001b[0m\u001b[1;32m    157\u001b[0m         \u001b[0;32melif\u001b[0m \u001b[0misinstance\u001b[0m\u001b[0;34m(\u001b[0m\u001b[0mlabel\u001b[0m\u001b[0;34m,\u001b[0m \u001b[0mtuple\u001b[0m\u001b[0;34m)\u001b[0m \u001b[0;32mand\u001b[0m \u001b[0misinstance\u001b[0m\u001b[0;34m(\u001b[0m\u001b[0mlabel\u001b[0m\u001b[0;34m[\u001b[0m\u001b[0maxis\u001b[0m\u001b[0;34m]\u001b[0m\u001b[0;34m,\u001b[0m \u001b[0mslice\u001b[0m\u001b[0;34m)\u001b[0m\u001b[0;34m:\u001b[0m\u001b[0;34m\u001b[0m\u001b[0;34m\u001b[0m\u001b[0m\n\u001b[1;32m    158\u001b[0m             \u001b[0;32mraise\u001b[0m \u001b[0mIndexingError\u001b[0m\u001b[0;34m(\u001b[0m\u001b[0;34m\"no slices here, handle elsewhere\"\u001b[0m\u001b[0;34m)\u001b[0m\u001b[0;34m\u001b[0m\u001b[0;34m\u001b[0m\u001b[0m\n",
      "\u001b[0;32m/usr/local/lib/python3.7/site-packages/pandas/core/generic.py\u001b[0m in \u001b[0;36mxs\u001b[0;34m(self, key, axis, level, drop_level)\u001b[0m\n\u001b[1;32m   3735\u001b[0m             \u001b[0mloc\u001b[0m\u001b[0;34m,\u001b[0m \u001b[0mnew_index\u001b[0m \u001b[0;34m=\u001b[0m \u001b[0mself\u001b[0m\u001b[0;34m.\u001b[0m\u001b[0mindex\u001b[0m\u001b[0;34m.\u001b[0m\u001b[0mget_loc_level\u001b[0m\u001b[0;34m(\u001b[0m\u001b[0mkey\u001b[0m\u001b[0;34m,\u001b[0m \u001b[0mdrop_level\u001b[0m\u001b[0;34m=\u001b[0m\u001b[0mdrop_level\u001b[0m\u001b[0;34m)\u001b[0m\u001b[0;34m\u001b[0m\u001b[0;34m\u001b[0m\u001b[0m\n\u001b[1;32m   3736\u001b[0m         \u001b[0;32melse\u001b[0m\u001b[0;34m:\u001b[0m\u001b[0;34m\u001b[0m\u001b[0;34m\u001b[0m\u001b[0m\n\u001b[0;32m-> 3737\u001b[0;31m             \u001b[0mloc\u001b[0m \u001b[0;34m=\u001b[0m \u001b[0mself\u001b[0m\u001b[0;34m.\u001b[0m\u001b[0mindex\u001b[0m\u001b[0;34m.\u001b[0m\u001b[0mget_loc\u001b[0m\u001b[0;34m(\u001b[0m\u001b[0mkey\u001b[0m\u001b[0;34m)\u001b[0m\u001b[0;34m\u001b[0m\u001b[0;34m\u001b[0m\u001b[0m\n\u001b[0m\u001b[1;32m   3738\u001b[0m \u001b[0;34m\u001b[0m\u001b[0m\n\u001b[1;32m   3739\u001b[0m             \u001b[0;32mif\u001b[0m \u001b[0misinstance\u001b[0m\u001b[0;34m(\u001b[0m\u001b[0mloc\u001b[0m\u001b[0;34m,\u001b[0m \u001b[0mnp\u001b[0m\u001b[0;34m.\u001b[0m\u001b[0mndarray\u001b[0m\u001b[0;34m)\u001b[0m\u001b[0;34m:\u001b[0m\u001b[0;34m\u001b[0m\u001b[0;34m\u001b[0m\u001b[0m\n",
      "\u001b[0;32m/usr/local/lib/python3.7/site-packages/pandas/core/indexes/base.py\u001b[0m in \u001b[0;36mget_loc\u001b[0;34m(self, key, method, tolerance)\u001b[0m\n\u001b[1;32m   2897\u001b[0m                 \u001b[0;32mreturn\u001b[0m \u001b[0mself\u001b[0m\u001b[0;34m.\u001b[0m\u001b[0m_engine\u001b[0m\u001b[0;34m.\u001b[0m\u001b[0mget_loc\u001b[0m\u001b[0;34m(\u001b[0m\u001b[0mkey\u001b[0m\u001b[0;34m)\u001b[0m\u001b[0;34m\u001b[0m\u001b[0;34m\u001b[0m\u001b[0m\n\u001b[1;32m   2898\u001b[0m             \u001b[0;32mexcept\u001b[0m \u001b[0mKeyError\u001b[0m\u001b[0;34m:\u001b[0m\u001b[0;34m\u001b[0m\u001b[0;34m\u001b[0m\u001b[0m\n\u001b[0;32m-> 2899\u001b[0;31m                 \u001b[0;32mreturn\u001b[0m \u001b[0mself\u001b[0m\u001b[0;34m.\u001b[0m\u001b[0m_engine\u001b[0m\u001b[0;34m.\u001b[0m\u001b[0mget_loc\u001b[0m\u001b[0;34m(\u001b[0m\u001b[0mself\u001b[0m\u001b[0;34m.\u001b[0m\u001b[0m_maybe_cast_indexer\u001b[0m\u001b[0;34m(\u001b[0m\u001b[0mkey\u001b[0m\u001b[0;34m)\u001b[0m\u001b[0;34m)\u001b[0m\u001b[0;34m\u001b[0m\u001b[0;34m\u001b[0m\u001b[0m\n\u001b[0m\u001b[1;32m   2900\u001b[0m         \u001b[0mindexer\u001b[0m \u001b[0;34m=\u001b[0m \u001b[0mself\u001b[0m\u001b[0;34m.\u001b[0m\u001b[0mget_indexer\u001b[0m\u001b[0;34m(\u001b[0m\u001b[0;34m[\u001b[0m\u001b[0mkey\u001b[0m\u001b[0;34m]\u001b[0m\u001b[0;34m,\u001b[0m \u001b[0mmethod\u001b[0m\u001b[0;34m=\u001b[0m\u001b[0mmethod\u001b[0m\u001b[0;34m,\u001b[0m \u001b[0mtolerance\u001b[0m\u001b[0;34m=\u001b[0m\u001b[0mtolerance\u001b[0m\u001b[0;34m)\u001b[0m\u001b[0;34m\u001b[0m\u001b[0;34m\u001b[0m\u001b[0m\n\u001b[1;32m   2901\u001b[0m         \u001b[0;32mif\u001b[0m \u001b[0mindexer\u001b[0m\u001b[0;34m.\u001b[0m\u001b[0mndim\u001b[0m \u001b[0;34m>\u001b[0m \u001b[0;36m1\u001b[0m \u001b[0;32mor\u001b[0m \u001b[0mindexer\u001b[0m\u001b[0;34m.\u001b[0m\u001b[0msize\u001b[0m \u001b[0;34m>\u001b[0m \u001b[0;36m1\u001b[0m\u001b[0;34m:\u001b[0m\u001b[0;34m\u001b[0m\u001b[0;34m\u001b[0m\u001b[0m\n",
      "\u001b[0;32mpandas/_libs/index.pyx\u001b[0m in \u001b[0;36mpandas._libs.index.IndexEngine.get_loc\u001b[0;34m()\u001b[0m\n",
      "\u001b[0;32mpandas/_libs/index.pyx\u001b[0m in \u001b[0;36mpandas._libs.index.IndexEngine.get_loc\u001b[0;34m()\u001b[0m\n",
      "\u001b[0;32mpandas/_libs/hashtable_class_helper.pxi\u001b[0m in \u001b[0;36mpandas._libs.hashtable.PyObjectHashTable.get_item\u001b[0;34m()\u001b[0m\n",
      "\u001b[0;32mpandas/_libs/hashtable_class_helper.pxi\u001b[0m in \u001b[0;36mpandas._libs.hashtable.PyObjectHashTable.get_item\u001b[0;34m()\u001b[0m\n",
      "\u001b[0;31mKeyError\u001b[0m: 'screaming'"
     ]
    }
   ],
   "source": [
    "# Creates a data frame with features for each word in our common word set.\n",
    "# Each value is the count of the times the word appears in each sentence.\n",
    "def bow_features(descriptions, common_words):\n",
    "    \n",
    "    # Scaffold the data frame and initialize counts to zero.\n",
    "    df = pd.DataFrame(columns=common_words)\n",
    "    df['description'] = descriptions\n",
    "    df.loc[:, common_words] = 0\n",
    "    df = df.reset_index()\n",
    "    \n",
    "    # Process each row, counting the occurrence of words in each sentence.\n",
    "    for i, description in enumerate(df['description']):\n",
    "        words = [token for token in description]\n",
    "    \n",
    "        # Populate the row with word counts.\n",
    "        for word in words:\n",
    "            df.loc[i, word] += 1\n",
    "        \n",
    "        # This counter is just to make sure the kernel didn't hang.\n",
    "        if i % 50 == 0:\n",
    "            print(\"Processing row {}\".format(i))\n",
    "            \n",
    "    return df\n",
    "\n",
    "word_counts = bow_features(descriptions, common_words)"
   ]
  },
  {
   "cell_type": "code",
   "execution_count": null,
   "metadata": {},
   "outputs": [],
   "source": []
  }
 ],
 "metadata": {
  "kernelspec": {
   "display_name": "Python 3",
   "language": "python",
   "name": "python3"
  },
  "language_info": {
   "codemirror_mode": {
    "name": "ipython",
    "version": 3
   },
   "file_extension": ".py",
   "mimetype": "text/x-python",
   "name": "python",
   "nbconvert_exporter": "python",
   "pygments_lexer": "ipython3",
   "version": "3.7.4"
  }
 },
 "nbformat": 4,
 "nbformat_minor": 2
}
